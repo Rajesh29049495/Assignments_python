{
 "cells": [
  {
   "cell_type": "code",
   "execution_count": 32,
   "id": "03c220bd",
   "metadata": {},
   "outputs": [],
   "source": [
    "def deciding_validity(string):\n",
    "    char_count ={}\n",
    "    for i in string:\n",
    "        char_count[i]=string.count(i)\n",
    "    frequencies= set(char_count.values())\n",
    "    \n",
    "    frequency_list = list(frequencies)\n",
    "    if len(frequency_list)==1:\n",
    "        return \"YES\"\n",
    "    \n",
    "    if len(frequency_list)==2 and abs(frequency_list[1]-frequency_list[0])==1:\n",
    "        return \"YES\"\n",
    "    \n",
    "    return \"NO\"\n",
    "         "
   ]
  },
  {
   "cell_type": "code",
   "execution_count": 30,
   "id": "f53e312d",
   "metadata": {},
   "outputs": [
    {
     "data": {
      "text/plain": [
       "'YES'"
      ]
     },
     "execution_count": 30,
     "metadata": {},
     "output_type": "execute_result"
    }
   ],
   "source": [
    "deciding_validity(\"aaabbbccc\")"
   ]
  },
  {
   "cell_type": "code",
   "execution_count": 33,
   "id": "7dd15383",
   "metadata": {},
   "outputs": [
    {
     "data": {
      "text/plain": [
       "'NO'"
      ]
     },
     "execution_count": 33,
     "metadata": {},
     "output_type": "execute_result"
    }
   ],
   "source": [
    "deciding_validity(\"aaabc\")"
   ]
  },
  {
   "cell_type": "code",
   "execution_count": null,
   "id": "9841423e",
   "metadata": {},
   "outputs": [],
   "source": []
  }
 ],
 "metadata": {
  "kernelspec": {
   "display_name": "Python 3 (ipykernel)",
   "language": "python",
   "name": "python3"
  },
  "language_info": {
   "codemirror_mode": {
    "name": "ipython",
    "version": 3
   },
   "file_extension": ".py",
   "mimetype": "text/x-python",
   "name": "python",
   "nbconvert_exporter": "python",
   "pygments_lexer": "ipython3",
   "version": "3.9.12"
  }
 },
 "nbformat": 4,
 "nbformat_minor": 5
}
