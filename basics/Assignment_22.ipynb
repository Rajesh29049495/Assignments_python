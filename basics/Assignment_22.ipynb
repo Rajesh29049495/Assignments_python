{
 "cells": [
  {
   "cell_type": "markdown",
   "id": "8b7b3d01",
   "metadata": {},
   "source": [
    "1. What is the result of the code, and explain?\n",
    "```\n",
    "X = 'iNeuron'\n",
    "def func():\n",
    "    print(X)\n",
    "\n",
    "func()\n",
    "```"
   ]
  },
  {
   "cell_type": "code",
   "execution_count": 1,
   "id": "4b01bde0",
   "metadata": {},
   "outputs": [
    {
     "name": "stdout",
     "output_type": "stream",
     "text": [
      "iNeuron\n"
     ]
    }
   ],
   "source": [
    "X = 'iNeuron'\n",
    "def func():\n",
    "    print(X)\n",
    "\n",
    "func()"
   ]
  },
  {
   "cell_type": "markdown",
   "id": "6cc1722b",
   "metadata": {},
   "source": [
    "The result of the code will be the printing of the value of the variable `X`, which is 'iNeuron'.\n",
    "\n",
    "In the code, there is a variable `X` assigned the string value 'iNeuron' outside of the function `func()`. Inside the function, there is a `print()` statement that outputs the value of `X`. \n",
    "\n",
    "When the function `func()` is called, it executes the `print(X)` statement, which accesses the value of the global variable `X` and prints it to the console. Since the variable `X` is defined outside of the function, it is accessible inside the function scope. Therefore, the output will be 'iNeuron'."
   ]
  },
  {
   "cell_type": "markdown",
   "id": "6a5a897b",
   "metadata": {},
   "source": [
    "2. What is the result of the code, and explain?\n",
    "```\n",
    "X = 'iNeuron'\n",
    "def func():\n",
    "    X = 'NI'\n",
    "\n",
    "func()\n",
    "print(X)\n",
    "```"
   ]
  },
  {
   "cell_type": "code",
   "execution_count": 4,
   "id": "53b198c2",
   "metadata": {},
   "outputs": [
    {
     "name": "stdout",
     "output_type": "stream",
     "text": [
      "iNeuron\n"
     ]
    }
   ],
   "source": [
    "X = 'iNeuron'\n",
    "def func():\n",
    "    X = 'NI'\n",
    "\n",
    "func()\n",
    "print(X)"
   ]
  },
  {
   "cell_type": "markdown",
   "id": "0a73316b",
   "metadata": {},
   "source": [
    "The function `func()` is defined but it does not contain any statements to execute.\n",
    "only the last print(X) statement will print 'X' value that is globally defined.\n"
   ]
  },
  {
   "cell_type": "markdown",
   "id": "2a54618c",
   "metadata": {},
   "source": [
    "3. What does this code print, and why?\n",
    "```\n",
    "X = 'iNeuron'\n",
    "def func():\n",
    "    X= 'NI'\n",
    "    print(X)\n",
    "\n",
    "func()\n",
    "print(X)\n",
    "```"
   ]
  },
  {
   "cell_type": "code",
   "execution_count": 5,
   "id": "ea0d9fd6",
   "metadata": {},
   "outputs": [
    {
     "name": "stdout",
     "output_type": "stream",
     "text": [
      "NI\n",
      "iNeuron\n"
     ]
    }
   ],
   "source": [
    "X = 'iNeuron'\n",
    "def func():\n",
    "    X= 'NI'\n",
    "    print(X)\n",
    "\n",
    "func()\n",
    "print(X)"
   ]
  },
  {
   "cell_type": "markdown",
   "id": "b90b5e74",
   "metadata": {},
   "source": [
    "* The variable X is initially assigned the string value 'iNeuron' outside of the function func().\n",
    "* Inside the function func(), a new variable X is defined and assigned the string value 'NI'. This creates a local variable X within the function scope.\n",
    "* The print(X) statement inside the function is executed, which outputs the value of the local variable X, resulting in 'NI'.\n",
    "* After the function call, the print(X) statement outside the function scope is executed, which outputs the value of the global variable X, resulting in 'iNeuron'. This is because the local variable X inside the function does not affect the value of the global variable X.\n",
    "* Therefore, the final output is 'NI' followed by 'iNeuron'."
   ]
  },
  {
   "cell_type": "markdown",
   "id": "fa10d6c2",
   "metadata": {},
   "source": [
    "4. What output does this code produce? Why?\n",
    "```\n",
    "X = 'iNeuron'\n",
    "def func():\n",
    "    global X\n",
    "    X= 'NI'\n",
    "\n",
    "func()\n",
    "print(X)\n",
    "```"
   ]
  },
  {
   "cell_type": "code",
   "execution_count": 6,
   "id": "6c038440",
   "metadata": {},
   "outputs": [
    {
     "name": "stdout",
     "output_type": "stream",
     "text": [
      "NI\n"
     ]
    }
   ],
   "source": [
    "X = 'iNeuron'\n",
    "def func():\n",
    "    global X\n",
    "    X= 'NI'\n",
    "\n",
    "func()\n",
    "print(X)"
   ]
  },
  {
   "cell_type": "markdown",
   "id": "db8b6259",
   "metadata": {},
   "source": [
    "* The variable X is assigned the string value 'iNeuron' outside of the function.\n",
    "* Inside the function func(), the global keyword is used to indicate that the variable X is a global variable, not a local variable specific to the function scope.\n",
    "* Within the function, the value of the global variable X is changed to 'NI'.\n",
    "* The function func() is called, which modifies the global variable X.\n",
    "* The print(X) statement outside the function is executed, which outputs the updated value of the global variable X, resulting in 'NI'.\n",
    "* Therefore, the final output is 'NI'."
   ]
  },
  {
   "cell_type": "markdown",
   "id": "10a179a1",
   "metadata": {},
   "source": [
    "5. What about this code—what’s the output, and why?\n",
    "```\n",
    "X = 'iNeuron'\n",
    "def func():\n",
    "    X = 'NI'\n",
    "def nested():\n",
    "    print(X)\n",
    "    \n",
    "nested()\n",
    "func()\n",
    "X\n",
    "```"
   ]
  },
  {
   "cell_type": "code",
   "execution_count": 10,
   "id": "c9f02b3b",
   "metadata": {},
   "outputs": [
    {
     "name": "stdout",
     "output_type": "stream",
     "text": [
      "iNeuron\n"
     ]
    },
    {
     "data": {
      "text/plain": [
       "'iNeuron'"
      ]
     },
     "execution_count": 10,
     "metadata": {},
     "output_type": "execute_result"
    }
   ],
   "source": [
    "X = 'iNeuron'\n",
    "def func():\n",
    "    X = 'NI'\n",
    "def nested():\n",
    "    print(X)\n",
    "    \n",
    "nested()\n",
    "func()\n",
    "X"
   ]
  },
  {
   "cell_type": "markdown",
   "id": "58f765a8",
   "metadata": {},
   "source": [
    "* The variable X is assigned the value 'iNeuron' outside of any function, making it a global variable.\n",
    "* The function nested() is defined, which attempts to print the value of X. Since X is not defined within the nested() function, it looks for the global variable X and prints 'iNeuron'.\n",
    "* The function func() is defined, which assigns the value 'NI' to a local variable X. This local variable X is independent of the global variable X.\n",
    "* The nested() function is called, which prints 'iNeuron' (the value of the global variable X).\n",
    "* The func() function is called, but it doesn't affect the value of the global variable X since it operates on a local variable X that is separate from the global variable.\n",
    "* Finally, the value of the global variable X is printed, resulting in 'iNeuron' being printed."
   ]
  },
  {
   "cell_type": "markdown",
   "id": "9cb94f07",
   "metadata": {},
   "source": [
    "6. How about this code: what is its output in Python 3, and explain?\n",
    "```\n",
    "def func():\n",
    "    X = 'NI'\n",
    "def nested():\n",
    "    nonlocal X\n",
    "    X = 'Spam'\n",
    "\n",
    "nested()\n",
    "print(X)\n",
    "func()\n",
    "```"
   ]
  },
  {
   "cell_type": "code",
   "execution_count": 17,
   "id": "1542d7e2",
   "metadata": {},
   "outputs": [
    {
     "name": "stdout",
     "output_type": "stream",
     "text": [
      "Spam\n"
     ]
    }
   ],
   "source": [
    "def func():\n",
    "    X = 'NI'\n",
    "    def nested():\n",
    "        nonlocal X           #Accessing Outer Scope Variables: In Python, variables defined in an inner scope are separate from variables in the outer scope. If you want to access a variable from an outer scope within an inner scope, you can use the nonlocal keyword to indicate that you want to work with the variable from the nearest enclosing scope that defines it.\n",
    "        X = 'Spam'           ##Nested Functions: The most common use of nonlocal is within nested functions. It allows the inner function to access and modify variables from the outer function's scope.\n",
    "\n",
    "    nested()\n",
    "    print(X)\n",
    "func()"
   ]
  },
  {
   "cell_type": "markdown",
   "id": "2a12f467",
   "metadata": {},
   "source": [
    "* The func() function is defined and within it, the variable X is assigned the value 'NI'.\n",
    "* The nested() function is defined within func().\n",
    "* Inside the nested() function, the nonlocal keyword is used to specify that the variable X being modified is the one from the enclosing func() function, not a local variable.\n",
    "* The variable X within nested() is assigned the value 'Spam'.\n",
    "* The nested() function is called, which modifies the value of X to 'Spam'.\n",
    "* After the nested() function call, the value of X is printed, which will be 'Spam' because the modification made inside nested() affects the X variable in the enclosing func() function.\n",
    "* Finally, the func() function is called, which triggers the execution of the nested nested() function, resulting in the output of 'Spam' when X is printed.\n"
   ]
  },
  {
   "cell_type": "code",
   "execution_count": null,
   "id": "8afd3eca",
   "metadata": {},
   "outputs": [],
   "source": []
  }
 ],
 "metadata": {
  "kernelspec": {
   "display_name": "Python 3 (ipykernel)",
   "language": "python",
   "name": "python3"
  },
  "language_info": {
   "codemirror_mode": {
    "name": "ipython",
    "version": 3
   },
   "file_extension": ".py",
   "mimetype": "text/x-python",
   "name": "python",
   "nbconvert_exporter": "python",
   "pygments_lexer": "ipython3",
   "version": "3.10.9"
  }
 },
 "nbformat": 4,
 "nbformat_minor": 5
}
