{
 "cells": [
  {
   "cell_type": "markdown",
   "id": "df59f86d",
   "metadata": {},
   "source": [
    "1. Add the current date to the text file today.txt as a string."
   ]
  },
  {
   "cell_type": "code",
   "execution_count": 2,
   "id": "7e3a9a4f",
   "metadata": {},
   "outputs": [],
   "source": [
    "from datetime import date\n",
    "\n",
    "# Get the current date\n",
    "current_date = date.today()\n",
    "\n",
    "# Open the file in append mode and write the current date\n",
    "with open('today.txt', 'a') as file:\n",
    "    file.write(str(current_date))"
   ]
  },
  {
   "cell_type": "markdown",
   "id": "79171e8c",
   "metadata": {},
   "source": [
    "***********************"
   ]
  },
  {
   "cell_type": "markdown",
   "id": "096193ef",
   "metadata": {},
   "source": [
    "2. Read the text file today.txt into the string today_string"
   ]
  },
  {
   "cell_type": "code",
   "execution_count": 3,
   "id": "ee548626",
   "metadata": {},
   "outputs": [],
   "source": [
    "with open('today.txt', 'r') as file:\n",
    "    today_string = file.read()"
   ]
  },
  {
   "cell_type": "code",
   "execution_count": 4,
   "id": "18ca5bda",
   "metadata": {},
   "outputs": [
    {
     "data": {
      "text/plain": [
       "'2023-07-16'"
      ]
     },
     "execution_count": 4,
     "metadata": {},
     "output_type": "execute_result"
    }
   ],
   "source": [
    "today_string"
   ]
  },
  {
   "cell_type": "markdown",
   "id": "7aaf7e73",
   "metadata": {},
   "source": [
    "*******************************************"
   ]
  },
  {
   "cell_type": "markdown",
   "id": "f03e9427",
   "metadata": {},
   "source": [
    "3. Parse the date from today_string."
   ]
  },
  {
   "cell_type": "code",
   "execution_count": 6,
   "id": "44f087fc",
   "metadata": {},
   "outputs": [
    {
     "name": "stdout",
     "output_type": "stream",
     "text": [
      "2023-07-16\n"
     ]
    }
   ],
   "source": [
    "from datetime import datetime\n",
    "\n",
    "parsed_date = datetime.strptime(today_string, \"%Y-%m-%d\").date()          ## Parsing is a common operation when working with dates and times, as it allows you to convert strings into a structured format that can be used for further calculations, comparisons, or formatting as needed.\n",
    "print(parsed_date)"
   ]
  },
  {
   "cell_type": "markdown",
   "id": "65a8cbf4",
   "metadata": {},
   "source": [
    "**************************************************"
   ]
  },
  {
   "cell_type": "markdown",
   "id": "40ab921c",
   "metadata": {},
   "source": [
    "4. List the files in your current directory"
   ]
  },
  {
   "cell_type": "code",
   "execution_count": 10,
   "id": "f569d9c5",
   "metadata": {},
   "outputs": [
    {
     "name": "stdout",
     "output_type": "stream",
     "text": [
      ".ipynb_checkpoints\n",
      "Answer1.ipynb\n",
      "answer2.ipynb\n",
      "Answer3_Pokemon.ipynb\n",
      "Answer4_meteor.ipynb\n",
      "Answer4_meteor_for_me.ipynb\n",
      "Answer5_tvseries.ipynb\n",
      "Answer6_Pokemon.ipynb\n",
      "Answer7_meteor.ipynb\n",
      "Answer8_tvseries.ipynb\n",
      "Answer9_EV.ipynb\n",
      "Assignment_17.ipynb\n",
      "Assignment_22.ipynb\n",
      "Assignment_24.docx\n",
      "Assignment_25.docx\n",
      "Assignment_interview_Qs.ipynb\n",
      "meteor_information.csv\n",
      "Points_while_EDA_&FE.docx\n",
      "pokemon.csv\n",
      "pokemon.xlsx\n",
      "today.txt\n",
      "tv_series.csv\n",
      "Untitled.ipynb\n",
      "Untitled1.ipynb\n"
     ]
    }
   ],
   "source": [
    "import os\n",
    "\n",
    "# get the cwd\n",
    "current_directory = os.getcwd()\n",
    "\n",
    "# list the files in teh current directory\n",
    "files = os.listdir(current_directory)\n",
    "\n",
    "# print the list of files\n",
    "for file in files:\n",
    "    print(file)"
   ]
  },
  {
   "cell_type": "markdown",
   "id": "aebbbb25",
   "metadata": {},
   "source": [
    "5. Create a list of all of the files in your parent directory (minimum five files should be available)."
   ]
  },
  {
   "cell_type": "code",
   "execution_count": 16,
   "id": "5fa3d070",
   "metadata": {},
   "outputs": [
    {
     "name": "stdout",
     "output_type": "stream",
     "text": [
      "python_interview_questions.docx\n",
      "Python_interview_questions.ipynb\n"
     ]
    }
   ],
   "source": [
    "import os\n",
    "\n",
    "# Get the current directory\n",
    "current_directory = os.getcwd()\n",
    "\n",
    "# Get the parent directory\n",
    "parent_directory = os.path.dirname(current_directory)\n",
    "\n",
    "# List the files in the parent directory\n",
    "files = os.listdir(parent_directory)\n",
    "\n",
    "# Filter out directories/folders from the list\n",
    "files = [file for file in files if os.path.isfile(os.path.join(parent_directory, file))]\n",
    "\n",
    "# Print the list of files\n",
    "for file in files:\n",
    "    print(file)\n"
   ]
  },
  {
   "cell_type": "markdown",
   "id": "60537b48",
   "metadata": {},
   "source": [
    "**********************************************"
   ]
  },
  {
   "cell_type": "markdown",
   "id": "769dff6e",
   "metadata": {},
   "source": [
    "7. Create a date object of your day of birth."
   ]
  },
  {
   "cell_type": "code",
   "execution_count": 17,
   "id": "0542517f",
   "metadata": {},
   "outputs": [
    {
     "name": "stdout",
     "output_type": "stream",
     "text": [
      "1995-04-29\n"
     ]
    }
   ],
   "source": [
    "from datetime import date\n",
    "\n",
    "birth_date = date(1995, 4, 29)\n",
    "\n",
    "print(birth_date)"
   ]
  },
  {
   "cell_type": "markdown",
   "id": "699eb4fc",
   "metadata": {},
   "source": [
    "***********************************************"
   ]
  },
  {
   "cell_type": "markdown",
   "id": "e8fbfa73",
   "metadata": {},
   "source": [
    "8. What day of the week was your day of birth?"
   ]
  },
  {
   "cell_type": "code",
   "execution_count": 19,
   "id": "c984fad9",
   "metadata": {},
   "outputs": [
    {
     "name": "stdout",
     "output_type": "stream",
     "text": [
      "Friday\n"
     ]
    }
   ],
   "source": [
    "from datetime import datetime\n",
    "\n",
    "birth_date = datetime.strptime('1994-04-29', '%Y-%m-%d').date()  # Replace with your actual birthdate\n",
    "\n",
    "day_of_week = birth_date.strftime('%A')\n",
    "\n",
    "print(day_of_week)\n"
   ]
  },
  {
   "cell_type": "markdown",
   "id": "46961cd8",
   "metadata": {},
   "source": [
    "9. When will you be (or when were you) 10,000 days old?"
   ]
  },
  {
   "cell_type": "code",
   "execution_count": 20,
   "id": "a642726c",
   "metadata": {},
   "outputs": [
    {
     "name": "stdout",
     "output_type": "stream",
     "text": [
      "2027-05-19 00:00:00\n"
     ]
    }
   ],
   "source": [
    "from datetime import datetime, timedelta\n",
    "\n",
    "start_date = datetime(2000, 1, 1)  # Replace with your desired starting date\n",
    "\n",
    "future_date = start_date + timedelta(days=10000)\n",
    "\n",
    "print(future_date)\n"
   ]
  },
  {
   "cell_type": "code",
   "execution_count": null,
   "id": "de3fdb93",
   "metadata": {},
   "outputs": [],
   "source": []
  }
 ],
 "metadata": {
  "kernelspec": {
   "display_name": "Python 3 (ipykernel)",
   "language": "python",
   "name": "python3"
  },
  "language_info": {
   "codemirror_mode": {
    "name": "ipython",
    "version": 3
   },
   "file_extension": ".py",
   "mimetype": "text/x-python",
   "name": "python",
   "nbconvert_exporter": "python",
   "pygments_lexer": "ipython3",
   "version": "3.10.9"
  }
 },
 "nbformat": 4,
 "nbformat_minor": 5
}
