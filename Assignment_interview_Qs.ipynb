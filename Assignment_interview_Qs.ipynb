{
 "cells": [
  {
   "cell_type": "markdown",
   "id": "c8d709f1",
   "metadata": {},
   "source": [
    "1. Write a Python program to reverse a string without using any built-in string reversal functions."
   ]
  },
  {
   "cell_type": "code",
   "execution_count": 8,
   "id": "7bf8422e",
   "metadata": {},
   "outputs": [
    {
     "data": {
      "text/plain": [
       "'hsejaR'"
      ]
     },
     "execution_count": 8,
     "metadata": {},
     "output_type": "execute_result"
    }
   ],
   "source": [
    "##TC = O(n)\n",
    "##SC = O(n)\n",
    "def solution(s):\n",
    "    listed_s = list(s)\n",
    "    n = len(s)\n",
    "    p1 =0\n",
    "    p2= n-1\n",
    "    \n",
    "    while p1<=p2:\n",
    "        listed_s[p1], listed_s[p2]= listed_s[p2], listed_s[p1]\n",
    "        p1+=1\n",
    "        p2-=1\n",
    "    return \"\".join(listed_s)\n",
    "\n",
    "s= \"Rajesh\"\n",
    "solution(s)"
   ]
  },
  {
   "cell_type": "code",
   "execution_count": 9,
   "id": "18eda84d",
   "metadata": {},
   "outputs": [
    {
     "data": {
      "text/plain": [
       "'hsejaR'"
      ]
     },
     "execution_count": 9,
     "metadata": {},
     "output_type": "execute_result"
    }
   ],
   "source": [
    "## TC = O(n)\n",
    "## SC = O(n)\n",
    "def solution(s):\n",
    "    reversed_s=\"\"\n",
    "    \n",
    "    for i in range(len(s)-1, -1, -1):\n",
    "        reversed_s+=s[i]\n",
    "    return reversed_s\n",
    "\n",
    "s= \"Rajesh\"\n",
    "solution(s)"
   ]
  },
  {
   "cell_type": "markdown",
   "id": "672c1108",
   "metadata": {},
   "source": [
    "2. Implement a function to check if a given string is a palindrome."
   ]
  },
  {
   "cell_type": "code",
   "execution_count": 13,
   "id": "f6f5b533",
   "metadata": {},
   "outputs": [
    {
     "data": {
      "text/plain": [
       "True"
      ]
     },
     "execution_count": 13,
     "metadata": {},
     "output_type": "execute_result"
    }
   ],
   "source": [
    "def solution(s):\n",
    "    p1 =0\n",
    "    p2 =len(s)-1\n",
    "    \n",
    "    while p1<=p2:\n",
    "        if s[p1]!=s[p2]:\n",
    "            return False\n",
    "        p1+=1\n",
    "        p2-=1\n",
    "    return True\n",
    "\n",
    "s= \"level\"\n",
    "solution(s)"
   ]
  },
  {
   "cell_type": "markdown",
   "id": "00aca06a",
   "metadata": {},
   "source": [
    "3. Write a program to find the largest element in a given list."
   ]
  },
  {
   "cell_type": "code",
   "execution_count": 14,
   "id": "7369316d",
   "metadata": {},
   "outputs": [
    {
     "data": {
      "text/plain": [
       "5"
      ]
     },
     "execution_count": 14,
     "metadata": {},
     "output_type": "execute_result"
    }
   ],
   "source": [
    "def solution(l):\n",
    "    if not list:\n",
    "        return None\n",
    "    \n",
    "    result = float('-inf')\n",
    "    \n",
    "    for i in l:\n",
    "        result= max(result, i)\n",
    "    return result\n",
    "\n",
    "l = [1,2,3,4,5]\n",
    "solution(l)"
   ]
  },
  {
   "cell_type": "code",
   "execution_count": 16,
   "id": "d38d2a8b",
   "metadata": {},
   "outputs": [
    {
     "data": {
      "text/plain": [
       "5"
      ]
     },
     "execution_count": 16,
     "metadata": {},
     "output_type": "execute_result"
    }
   ],
   "source": [
    "def solution(l):\n",
    "    if not list:\n",
    "        return None\n",
    "    \n",
    "    largest = l[0]\n",
    "    \n",
    "    for num in l:\n",
    "        if num > largest:\n",
    "            largest = num\n",
    "    return largest\n",
    "\n",
    "l= [1,2,3,4,5]\n",
    "solution(l)"
   ]
  },
  {
   "cell_type": "markdown",
   "id": "8935e94f",
   "metadata": {},
   "source": [
    "4. Implement a function to count the occurrence of each element in a list."
   ]
  },
  {
   "cell_type": "code",
   "execution_count": 18,
   "id": "fc3a1be1",
   "metadata": {},
   "outputs": [
    {
     "data": {
      "text/plain": [
       "{1: 3, 2: 2, 3: 2, 4: 2, 5: 2, 6: 1}"
      ]
     },
     "execution_count": 18,
     "metadata": {},
     "output_type": "execute_result"
    }
   ],
   "source": [
    "def solution(l):\n",
    "    d ={}\n",
    "    \n",
    "    for i in l:\n",
    "        d[i]= d.get(i, 0)+1\n",
    "    return d\n",
    "\n",
    "l =[1,1,1,2,3,2,3,4,4,5,6,5]\n",
    "solution(l)"
   ]
  },
  {
   "cell_type": "markdown",
   "id": "51f16955",
   "metadata": {},
   "source": [
    "5. Write a Python program to find the second largest number in a list."
   ]
  },
  {
   "cell_type": "code",
   "execution_count": 29,
   "id": "14ef9cb6",
   "metadata": {},
   "outputs": [
    {
     "data": {
      "text/plain": [
       "4"
      ]
     },
     "execution_count": 29,
     "metadata": {},
     "output_type": "execute_result"
    }
   ],
   "source": [
    "# bubble_sort\n",
    "def solution(l):\n",
    "    n = len(l)\n",
    "    \n",
    "    for i in range(n-1):                      ##as we considering `j+1`, so if we take i =n-1 then it would have considered next e\n",
    "        for j in range(0, n-i-1):\n",
    "            if l[j]<l[j+1]:\n",
    "                l[j], l[j+1] = l[j+1], l[j]\n",
    "    return l[1]\n",
    "l =[2,4,3,5,1]\n",
    "solution(l)"
   ]
  },
  {
   "cell_type": "code",
   "execution_count": 31,
   "id": "bbeb0918",
   "metadata": {},
   "outputs": [
    {
     "name": "stdout",
     "output_type": "stream",
     "text": [
      "Second largest number: 7\n"
     ]
    }
   ],
   "source": [
    "def merge_sort(arr):\n",
    "    if len(arr) <= 1:\n",
    "        return arr\n",
    "    \n",
    "    # Divide the list into two halves\n",
    "    mid = len(arr) // 2\n",
    "    left_half = arr[:mid]\n",
    "    right_half = arr[mid:]\n",
    "    \n",
    "    # Recursively sort the two halves\n",
    "    left_half = merge_sort(left_half)\n",
    "    right_half = merge_sort(right_half)\n",
    "    \n",
    "    # Merge the sorted halves\n",
    "    sorted_arr = merge(left_half, right_half)\n",
    "    \n",
    "    return sorted_arr\n",
    "\n",
    "def merge(left, right):\n",
    "    merged = []\n",
    "    i = j = 0\n",
    "    \n",
    "    # Merge the two halves in sorted order\n",
    "    while i < len(left) and j < len(right):\n",
    "        if left[i] <= right[j]:\n",
    "            merged.append(left[i])\n",
    "            i += 1\n",
    "        else:\n",
    "            merged.append(right[j])\n",
    "            j += 1\n",
    "    \n",
    "    # Append any remaining elements from the left or right half\n",
    "    while i < len(left):\n",
    "        merged.append(left[i])\n",
    "        i += 1\n",
    "    while j < len(right):\n",
    "        merged.append(right[j])\n",
    "        j += 1\n",
    "    \n",
    "    return merged\n",
    "\n",
    "\n",
    "# Test the sorting algorithm\n",
    "numbers = [9, 5, 7, 1, 3]\n",
    "sorted_numbers = merge_sort(numbers)\n",
    "print(\"Second largest number:\", sorted_numbers[-2])  # Output: [1, 3, 5, 7, 9]\n"
   ]
  },
  {
   "cell_type": "markdown",
   "id": "b45ea3a6",
   "metadata": {},
   "source": [
    "6. Implement a function to remove duplicate elements from a list."
   ]
  },
  {
   "cell_type": "code",
   "execution_count": 22,
   "id": "90cf7a5e",
   "metadata": {},
   "outputs": [
    {
     "data": {
      "text/plain": [
       "[1, 2, 3]"
      ]
     },
     "execution_count": 22,
     "metadata": {},
     "output_type": "execute_result"
    }
   ],
   "source": [
    "def solution(l):\n",
    "    l1 =[]\n",
    "    for i in l:\n",
    "        if i in l1:\n",
    "            continue\n",
    "        l1.append(i)\n",
    "    return l1\n",
    "l=[1,2,3,1,2]\n",
    "solution(l)\n",
    "\n",
    "# or by simply typecasting the list to set then again back to list will get rid ogf duplicates"
   ]
  },
  {
   "cell_type": "markdown",
   "id": "b9431a77",
   "metadata": {},
   "source": [
    "7. **`Write a program to calculate the factorial of a given number.`**"
   ]
  },
  {
   "cell_type": "code",
   "execution_count": 61,
   "id": "f6f7d92d",
   "metadata": {},
   "outputs": [
    {
     "data": {
      "text/plain": [
       "720"
      ]
     },
     "execution_count": 61,
     "metadata": {},
     "output_type": "execute_result"
    }
   ],
   "source": [
    "def solution(num):\n",
    "    if num==0:\n",
    "        return 1\n",
    "    \n",
    "    factorial =1\n",
    "    \n",
    "    for i in range(1, num+1):\n",
    "        factorial*=i\n",
    "    return factorial\n",
    "num=6\n",
    "solution(num)"
   ]
  },
  {
   "cell_type": "code",
   "execution_count": 56,
   "id": "7b7f98a4",
   "metadata": {},
   "outputs": [
    {
     "name": "stdout",
     "output_type": "stream",
     "text": [
      "Enter a number: 6\n",
      "The factorial of 6 is: 720\n"
     ]
    }
   ],
   "source": [
    "def factorial(n):\n",
    "    if n == 0:\n",
    "        return 1\n",
    "    else:\n",
    "        return n * factorial(n - 1)\n",
    "\n",
    "# Test the factorial function\n",
    "number = int(input(\"Enter a number: \"))\n",
    "result = factorial(number)\n",
    "print(f\"The factorial of {number} is: {result}\")\n"
   ]
  },
  {
   "cell_type": "markdown",
   "id": "3812cce1",
   "metadata": {},
   "source": [
    "8. **`Implement a function to check if a given number is prime.`**"
   ]
  },
  {
   "cell_type": "code",
   "execution_count": 40,
   "id": "0a357f2e",
   "metadata": {},
   "outputs": [
    {
     "data": {
      "text/plain": [
       "False"
      ]
     },
     "execution_count": 40,
     "metadata": {},
     "output_type": "execute_result"
    }
   ],
   "source": [
    "import math\n",
    "\n",
    "def solution(num):\n",
    "    if num <=1:\n",
    "        return False\n",
    "    for i in range(2, int(math.sqrt(num))+1):            ##To check if a given number is prime, you can iterate from 2 to the square root of the number and check if any number divides the given number without leaving a remainder.\n",
    "        if num%i==0:\n",
    "            return False\n",
    "    return True\n",
    "\n",
    "num = 6\n",
    "solution(num)"
   ]
  },
  {
   "cell_type": "markdown",
   "id": "a79be412",
   "metadata": {},
   "source": [
    "9. **`Write a Python program to sort a list of integers in ascending order.`**"
   ]
  },
  {
   "cell_type": "code",
   "execution_count": 49,
   "id": "e02551ad",
   "metadata": {},
   "outputs": [
    {
     "name": "stdout",
     "output_type": "stream",
     "text": [
      "Sorted numbers: [1, 3, 5, 7, 9]\n"
     ]
    }
   ],
   "source": [
    "def merge_sort(arr):\n",
    "    if len(arr)<=1:\n",
    "        return arr\n",
    "    \n",
    "    mid = len(arr)//2\n",
    "    left_half = arr[:mid]\n",
    "    right_half= arr[mid:]\n",
    "    \n",
    "    left_half = merge_sort(left_half)\n",
    "    right_half = merge_sort(right_half)\n",
    "    \n",
    "    sorted_arr= merge(left_half, right_half)\n",
    "    \n",
    "    return sorted_arr\n",
    "\n",
    "def merge(left, right):\n",
    "    merged =[]\n",
    "    i=j=0\n",
    "    \n",
    "    while i<len(left) and j<len(right):\n",
    "        if left[i]<= right[j]:\n",
    "            merged.append(left[i])\n",
    "            i+=1\n",
    "        else:\n",
    "            merged.append(right[j])\n",
    "            j+=1\n",
    "    \n",
    "    while i<len(left):\n",
    "        merged.append(left[i])\n",
    "        i+=1\n",
    "    while j<len(right):\n",
    "        merged.append(right[j])\n",
    "        j+=1\n",
    "    return merged\n",
    "\n",
    "\n",
    "# Test the sorting algorithm\n",
    "numbers = [9, 5, 7, 1, 3]\n",
    "sorted_numbers = merge_sort(numbers)\n",
    "print(\"Sorted numbers:\", sorted_numbers)         "
   ]
  },
  {
   "cell_type": "markdown",
   "id": "fca610ad",
   "metadata": {},
   "source": [
    "10. Implement a function to find the sum of all numbers in a list."
   ]
  },
  {
   "cell_type": "code",
   "execution_count": 51,
   "id": "032727ae",
   "metadata": {},
   "outputs": [
    {
     "data": {
      "text/plain": [
       "10"
      ]
     },
     "execution_count": 51,
     "metadata": {},
     "output_type": "execute_result"
    }
   ],
   "source": [
    "def solution(l):\n",
    "    sum=0\n",
    "    \n",
    "    for i in l:\n",
    "        sum+=i\n",
    "    return sum\n",
    "\n",
    "l =[1,2,3,4]\n",
    "solution(l)"
   ]
  },
  {
   "cell_type": "markdown",
   "id": "da7b5ef6",
   "metadata": {},
   "source": [
    "11. Write a program to find the common elements between two lists."
   ]
  },
  {
   "cell_type": "code",
   "execution_count": 53,
   "id": "2244633a",
   "metadata": {},
   "outputs": [
    {
     "data": {
      "text/plain": [
       "[2, 2, 3]"
      ]
     },
     "execution_count": 53,
     "metadata": {},
     "output_type": "execute_result"
    }
   ],
   "source": [
    "def solution(l1, l2):\n",
    "    l =[]\n",
    "    \n",
    "    for i in l1:\n",
    "        if i in l2:\n",
    "            l.append(i)\n",
    "            \n",
    "    return l\n",
    "\n",
    "l1 =[1,2,2,3,4]\n",
    "l2=[2,3, 2]\n",
    "solution(l1, l2)"
   ]
  },
  {
   "cell_type": "markdown",
   "id": "27c2e2d0",
   "metadata": {},
   "source": [
    "12. **`Implement a function to check if a given string is an anagram of another string.`**"
   ]
  },
  {
   "cell_type": "code",
   "execution_count": 69,
   "id": "f903ed3a",
   "metadata": {},
   "outputs": [
    {
     "data": {
      "text/plain": [
       "True"
      ]
     },
     "execution_count": 69,
     "metadata": {},
     "output_type": "execute_result"
    }
   ],
   "source": [
    "def solution(s1, s2):\n",
    "    if len(s1)!=len(s2):\n",
    "        return False\n",
    "    \n",
    "    listed_s1= list(s1)\n",
    "    listed_s2 =list(s2)\n",
    "    \n",
    "    for i in listed_s1:\n",
    "        if i in listed_s2:\n",
    "            listed_s2.remove(i)\n",
    "        else:\n",
    "            return False\n",
    "    if len(listed_s2)==0:\n",
    "        return True\n",
    "    else:\n",
    "        return False\n",
    "    \n",
    "s1=\"rajesh\"\n",
    "s2=\"shejra\"\n",
    "solution(s1, s2)"
   ]
  },
  {
   "cell_type": "code",
   "execution_count": 9,
   "id": "a892e0f3",
   "metadata": {},
   "outputs": [
    {
     "data": {
      "text/plain": [
       "False"
      ]
     },
     "execution_count": 9,
     "metadata": {},
     "output_type": "execute_result"
    }
   ],
   "source": [
    "def solution(s1, s2):\n",
    "    if len(s1)!=len(s2):\n",
    "        return False\n",
    "    \n",
    "    if sorted(s1)==sorted(s2):\n",
    "        return True\n",
    "    return False\n",
    "s1=\"level\"\n",
    "s2= \"lleev\"\n",
    "solution(s1, s2)\n",
    "    "
   ]
  },
  {
   "cell_type": "code",
   "execution_count": 30,
   "id": "f14c1289",
   "metadata": {},
   "outputs": [
    {
     "data": {
      "text/plain": [
       "True"
      ]
     },
     "execution_count": 30,
     "metadata": {},
     "output_type": "execute_result"
    }
   ],
   "source": [
    "def solution(s1, s2):\n",
    "    if len(s1)!=len(s2):\n",
    "        return False\n",
    "    \n",
    "    for ch in s1:\n",
    "        if ch not in s2:\n",
    "            return False\n",
    "    return True\n",
    "\n",
    "s1 = \"rajeshg\"\n",
    "s2 = \"esagrhj\"\n",
    "solution(s1, s2)    "
   ]
  },
  {
   "cell_type": "markdown",
   "id": "81f4c854",
   "metadata": {},
   "source": [
    "13. **`Write a Python program to generate all permutations of a given string.`**"
   ]
  },
  {
   "cell_type": "code",
   "execution_count": 75,
   "id": "5c33bd75",
   "metadata": {},
   "outputs": [
    {
     "name": "stdout",
     "output_type": "stream",
     "text": [
      "['abc', 'acb', 'bac', 'bca', 'cab', 'cba']\n"
     ]
    }
   ],
   "source": [
    "from itertools import permutations\n",
    "\n",
    "def generate_permutations(string):\n",
    "    # Use itertools.permutations to generate all permutations of the string\n",
    "    perms = permutations(string)\n",
    "    \n",
    "    # Convert each permutation tuple to a string\n",
    "    perm_strings = [''.join(perm) for perm in perms]\n",
    "    \n",
    "    return perm_strings\n",
    "\n",
    "# Example usage:\n",
    "string = 'abc'\n",
    "permutations = generate_permutations(string)\n",
    "print(permutations)\n"
   ]
  },
  {
   "cell_type": "markdown",
   "id": "e07bba5d",
   "metadata": {},
   "source": [
    "14. **`Implement a function to calculate the Fibonacci sequence up to a given number of terms.`**"
   ]
  },
  {
   "cell_type": "code",
   "execution_count": 70,
   "id": "b9841ec2",
   "metadata": {},
   "outputs": [],
   "source": [
    "def fibonacci(num):\n",
    "    sequence = []\n",
    "    i, j = 0, 1\n",
    "    for _ in range(num):\n",
    "        sequence.append(i)\n",
    "        i, j = j, i + j\n",
    "    return sequence\n"
   ]
  },
  {
   "cell_type": "code",
   "execution_count": 71,
   "id": "d777b40a",
   "metadata": {},
   "outputs": [],
   "source": [
    "def fibonacci_sequence(n):\n",
    "    sequence = []\n",
    "    \n",
    "    # Base cases\n",
    "    if n >= 1:\n",
    "        sequence.append(0)\n",
    "    if n >= 2:\n",
    "        sequence.append(1)\n",
    "    \n",
    "    # Calculate remaining terms\n",
    "    for i in range(2, n):\n",
    "        term = sequence[i-1] + sequence[i-2]\n",
    "        sequence.append(term)\n",
    "    \n",
    "    return sequence\n"
   ]
  },
  {
   "cell_type": "markdown",
   "id": "4de24eba",
   "metadata": {},
   "source": [
    "15. **`Write a program to find the median of a list of numbers.`**"
   ]
  },
  {
   "cell_type": "code",
   "execution_count": 74,
   "id": "25f33a0f",
   "metadata": {},
   "outputs": [
    {
     "data": {
      "text/plain": [
       "4.0"
      ]
     },
     "execution_count": 74,
     "metadata": {},
     "output_type": "execute_result"
    }
   ],
   "source": [
    "def solution(l):\n",
    "    sorted_numbers = sorted(l)\n",
    "    n = len(sorted_numbers)\n",
    "    mid = n//2\n",
    "    \n",
    "    if n%2!=0:\n",
    "        median = sorted_numbers[mid]\n",
    "    else:\n",
    "        median = (sorted_numbers[mid-1] + sorted_numbers[mid])/2\n",
    "    \n",
    "    return median\n",
    "\n",
    "l = [7,2,5,1,9,3]\n",
    "solution(l)"
   ]
  },
  {
   "cell_type": "markdown",
   "id": "836bed70",
   "metadata": {},
   "source": [
    "16. Implement a function to check if a given list is sorted in non-decreasing order."
   ]
  },
  {
   "cell_type": "code",
   "execution_count": 4,
   "id": "ab07c4de",
   "metadata": {},
   "outputs": [
    {
     "data": {
      "text/plain": [
       "True"
      ]
     },
     "execution_count": 4,
     "metadata": {},
     "output_type": "execute_result"
    }
   ],
   "source": [
    "def solution(arr):\n",
    "    n = len(arr)\n",
    "    for i in range(n-1):\n",
    "        if arr[i+1]<arr[i]:\n",
    "            return False\n",
    "    return True\n",
    "\n",
    "array= [1,2,3,4,5]\n",
    "solution(array)\n",
    "        \n",
    "        "
   ]
  },
  {
   "cell_type": "markdown",
   "id": "27e9369a",
   "metadata": {},
   "source": [
    "17. Write a Python program to find the intersection of two lists."
   ]
  },
  {
   "cell_type": "code",
   "execution_count": 5,
   "id": "ae57fc32",
   "metadata": {},
   "outputs": [
    {
     "data": {
      "text/plain": [
       "[2, 3]"
      ]
     },
     "execution_count": 5,
     "metadata": {},
     "output_type": "execute_result"
    }
   ],
   "source": [
    "def solution(l1, l2):\n",
    "    l =[]\n",
    "    for i in l1:\n",
    "        if i in l2:\n",
    "            l.append(i)\n",
    "    return l\n",
    "\n",
    "l1= [1,2,3,4,5]\n",
    "l2 = [2,3]\n",
    "solution(l1, l2)"
   ]
  },
  {
   "cell_type": "code",
   "execution_count": 6,
   "id": "018d7787",
   "metadata": {},
   "outputs": [],
   "source": [
    "#there is this set1.intresection(set2) code, to retun intersection between two sets"
   ]
  },
  {
   "cell_type": "markdown",
   "id": "d7585176",
   "metadata": {},
   "source": [
    "18. **`Implement a function to find the maximum subarray sum in a given list.`**"
   ]
  },
  {
   "cell_type": "code",
   "execution_count": 7,
   "id": "2ddc64a2",
   "metadata": {},
   "outputs": [
    {
     "data": {
      "text/plain": [
       "6"
      ]
     },
     "execution_count": 7,
     "metadata": {},
     "output_type": "execute_result"
    }
   ],
   "source": [
    "def solution(nums):\n",
    "    max_sum =0\n",
    "    curr_sum=0\n",
    "    \n",
    "    for num in nums:\n",
    "        curr_sum = max(num, curr_sum +num)\n",
    "        max_sum = max(max_sum, curr_sum)\n",
    "        \n",
    "    return max_sum\n",
    "\n",
    "nums = [-2,1,-3,4,-1,2,1,-5,4]\n",
    "solution(nums)"
   ]
  },
  {
   "cell_type": "markdown",
   "id": "74e1ef9a",
   "metadata": {},
   "source": [
    "19. Write a program to remove all vowels from a given string."
   ]
  },
  {
   "cell_type": "code",
   "execution_count": 12,
   "id": "0eefe805",
   "metadata": {},
   "outputs": [
    {
     "data": {
      "text/plain": [
       "'hll'"
      ]
     },
     "execution_count": 12,
     "metadata": {},
     "output_type": "execute_result"
    }
   ],
   "source": [
    "def solution(s):\n",
    "    v= [\"a\", \"e\", \"i\", \"o\", \"u\"]\n",
    "    # create copy of the string to iterate over\n",
    "    new_s = s[:]\n",
    "    \n",
    "    for ch in new_s:\n",
    "        if ch in v:\n",
    "            s= s.replace(ch, \"\")\n",
    "            \n",
    "    return s\n",
    "\n",
    "s= \"hello\"\n",
    "solution(s)\n",
    "    "
   ]
  },
  {
   "cell_type": "markdown",
   "id": "809f90ac",
   "metadata": {},
   "source": [
    "20. **`Implement a function to reverse the order of words in a given sentence.`**"
   ]
  },
  {
   "cell_type": "code",
   "execution_count": 26,
   "id": "3493b57f",
   "metadata": {},
   "outputs": [
    {
     "data": {
      "text/plain": [
       "'sentence. a is This world! Hello,'"
      ]
     },
     "execution_count": 26,
     "metadata": {},
     "output_type": "execute_result"
    }
   ],
   "source": [
    "def solution(sentence):\n",
    "    words= sentence.split()\n",
    "    \n",
    "    p1=0\n",
    "    p2=len(words)-1\n",
    "    while p1<=p2:\n",
    "        words[p1], words[p2] = words[p2], words[p1]\n",
    "        p1+=1\n",
    "        p2-=1   \n",
    "    \n",
    "    return \" \".join(words)\n",
    "\n",
    "sentence = \"Hello, world! This is a sentence.\"\n",
    "solution(sentence)"
   ]
  },
  {
   "cell_type": "code",
   "execution_count": 24,
   "id": "4a423928",
   "metadata": {},
   "outputs": [
    {
     "name": "stdout",
     "output_type": "stream",
     "text": [
      "sentence. a is This world! Hello,\n"
     ]
    }
   ],
   "source": [
    "def reverse_words(sentence):\n",
    "    words = sentence.split()  # Split the sentence into words\n",
    "    reversed_words = words[::-1]  # Reverse the order of words\n",
    "    reversed_sentence = \" \".join(reversed_words)  # Join the reversed words with spaces\n",
    "    \n",
    "    return reversed_sentence\n",
    "\n",
    "# Test the function\n",
    "sentence = \"Hello, world! This is a sentence.\"\n",
    "result = reverse_words(sentence)\n",
    "print(result)  # Output: \"sentence. a is This world! Hello,\"\n"
   ]
  },
  {
   "cell_type": "markdown",
   "id": "b3205016",
   "metadata": {},
   "source": [
    "37. Write a Python program to reverse the order of words in a sentence while preserving the word order."
   ]
  },
  {
   "cell_type": "code",
   "execution_count": 23,
   "id": "65c8f3ee",
   "metadata": {},
   "outputs": [
    {
     "data": {
      "text/plain": [
       "',olleH !dlrow sihT si a .ecnetnes'"
      ]
     },
     "execution_count": 23,
     "metadata": {},
     "output_type": "execute_result"
    }
   ],
   "source": [
    "## this function reverses the words in its place in the sentence\n",
    "def solution(sentence):\n",
    "    words= sentence.split()\n",
    "    \n",
    "    for i in range(len(words)):\n",
    "        p1=0\n",
    "        p2= len(words[i])-1\n",
    "        listed_word = list(words[i])\n",
    "        \n",
    "        while p1<=p2:\n",
    "            listed_word[p1], listed_word[p2] = listed_word[p2], listed_word[p1]\n",
    "            p1+=1\n",
    "            p2-=1\n",
    "        words[i] = \"\".join(listed_word)    \n",
    "    return \" \".join(words)\n",
    "\n",
    "sentence = \"Hello, world! This is a sentence.\"\n",
    "solution(sentence)"
   ]
  },
  {
   "cell_type": "markdown",
   "id": "8571964c",
   "metadata": {},
   "source": [
    "21. Write a Python program to check if two strings are anagrams of each other."
   ]
  },
  {
   "cell_type": "code",
   "execution_count": 29,
   "id": "f7aaa554",
   "metadata": {},
   "outputs": [
    {
     "data": {
      "text/plain": [
       "True"
      ]
     },
     "execution_count": 29,
     "metadata": {},
     "output_type": "execute_result"
    }
   ],
   "source": [
    "def solution(s1, s2):\n",
    "    if len(s1)!=len(s2):\n",
    "        return False\n",
    "    \n",
    "    for ch in s1:\n",
    "        if ch not in s2:\n",
    "            return False\n",
    "    return True\n",
    "\n",
    "s1 = \"rajeshg\"\n",
    "s2 = \"esagrhj\"\n",
    "solution(s1, s2)        "
   ]
  },
  {
   "cell_type": "markdown",
   "id": "95468c7a",
   "metadata": {},
   "source": [
    "22. **`Implement a function to find the first non-repeating character in a string.`**"
   ]
  },
  {
   "cell_type": "code",
   "execution_count": 32,
   "id": "5c7489c4",
   "metadata": {},
   "outputs": [
    {
     "data": {
      "text/plain": [
       "'d'"
      ]
     },
     "execution_count": 32,
     "metadata": {},
     "output_type": "execute_result"
    }
   ],
   "source": [
    "def solution(s):\n",
    "    \n",
    "    h= {}  # Dictionary to store character frequencies\n",
    "    \n",
    "    # Count the frequency of each character\n",
    "    for ch in s:\n",
    "        h[ch] = h.get(ch, 0)+1\n",
    "    \n",
    "    # Find the first non-repeating character\n",
    "    for ch in s:\n",
    "        if h[ch]==1:\n",
    "            return ch\n",
    "\n",
    "    return None     # Return None if no non-repeating character is found\n",
    "s=\"abcaacbbd\"\n",
    "solution(s)        "
   ]
  },
  {
   "cell_type": "markdown",
   "id": "6af1ff3b",
   "metadata": {},
   "source": [
    "23. **`Write a program to find the prime factors of a given number.`**"
   ]
  },
  {
   "cell_type": "code",
   "execution_count": 42,
   "id": "906c9e87",
   "metadata": {},
   "outputs": [
    {
     "data": {
      "text/plain": [
       "[2, 3]"
      ]
     },
     "execution_count": 42,
     "metadata": {},
     "output_type": "execute_result"
    }
   ],
   "source": [
    "import math\n",
    "\n",
    "def solution(num):\n",
    "    result =[]\n",
    "    for i in range(2,int(math.sqrt(num))+1):\n",
    "        if num%i==0 and not any(i%j==0 for j in range(2, int(math.sqrt(i))+1)):\n",
    "            result.append(i)\n",
    "    return result\n",
    "\n",
    "num =12\n",
    "solution(num)"
   ]
  },
  {
   "cell_type": "markdown",
   "id": "0b2b5d64",
   "metadata": {},
   "source": [
    "### 24. Implement a function to check if a given number is a power of two."
   ]
  },
  {
   "cell_type": "code",
   "execution_count": 57,
   "id": "67640c68",
   "metadata": {},
   "outputs": [
    {
     "data": {
      "text/plain": [
       "False"
      ]
     },
     "execution_count": 57,
     "metadata": {},
     "output_type": "execute_result"
    }
   ],
   "source": [
    "def is_power_of_two(num):\n",
    "    if num<=0:\n",
    "        return False\n",
    "    while num>1:                          \n",
    "        if num%2!=0:\n",
    "            return False\n",
    "        num = num//2\n",
    "    return True\n",
    "\n",
    "num =12\n",
    "is_power_of_two(num)"
   ]
  },
  {
   "cell_type": "code",
   "execution_count": 65,
   "id": "ecdf2497",
   "metadata": {},
   "outputs": [
    {
     "data": {
      "text/plain": [
       "False"
      ]
     },
     "execution_count": 65,
     "metadata": {},
     "output_type": "execute_result"
    }
   ],
   "source": [
    "def powerOf2(num):\n",
    "    if num<=0:\n",
    "        return False\n",
    "    if num ==1:                            ## base case\n",
    "        return True\n",
    "    if num%2!=0:\n",
    "        return False\n",
    "    \n",
    "    return powerOf2(num//2)\n",
    "\n",
    "num =12\n",
    "powerOf2(num)\n",
    "        "
   ]
  },
  {
   "cell_type": "markdown",
   "id": "be0818f5",
   "metadata": {},
   "source": [
    "25. Write a Python program to merge two sorted lists into a single sorted list."
   ]
  },
  {
   "cell_type": "code",
   "execution_count": 45,
   "id": "72f637d5",
   "metadata": {},
   "outputs": [
    {
     "data": {
      "text/plain": [
       "[1, 2, 3, 4, 5, 6, 7, 8]"
      ]
     },
     "execution_count": 45,
     "metadata": {},
     "output_type": "execute_result"
    }
   ],
   "source": [
    "def solution(l1, l2):\n",
    "    l =[]\n",
    "    i=0\n",
    "    j=0\n",
    "    \n",
    "    while i<len(l1) and j<len(l2):\n",
    "        if l1[i]<l2[j]:\n",
    "            l.append(l1[i])\n",
    "            i+=1\n",
    "        elif l2[j]<l1[i]:\n",
    "            l.append(l2[j])\n",
    "            j+=1\n",
    "    if i<len(l1):\n",
    "        l.extend(l1[i:])\n",
    "    if j<len(l2):\n",
    "        l.extend(l2[j:])\n",
    "    \n",
    "    return l\n",
    "\n",
    "l1=[1,3,4,6,8]\n",
    "l2=[2,5,7]\n",
    "solution(l1, l2)"
   ]
  },
  {
   "cell_type": "code",
   "execution_count": 50,
   "id": "0ca821b8",
   "metadata": {},
   "outputs": [
    {
     "data": {
      "text/plain": [
       "[1, 2, 3, 4, 5, 6, 7, 8]"
      ]
     },
     "execution_count": 50,
     "metadata": {},
     "output_type": "execute_result"
    }
   ],
   "source": [
    "def solution(l1, l2):\n",
    "    l1.extend(l2)\n",
    "    \n",
    "    return sorted(l1)\n",
    "\n",
    "l1=[1,3,4,6,8]\n",
    "l2=[2,5,7]\n",
    "solution(l1, l2)"
   ]
  },
  {
   "cell_type": "markdown",
   "id": "e9de766c",
   "metadata": {},
   "source": [
    "26. Implement a function to find the mode of a list of numbers."
   ]
  },
  {
   "cell_type": "code",
   "execution_count": 66,
   "id": "5c6f7311",
   "metadata": {},
   "outputs": [
    {
     "data": {
      "text/plain": [
       "2"
      ]
     },
     "execution_count": 66,
     "metadata": {},
     "output_type": "execute_result"
    }
   ],
   "source": [
    "def solution(l):\n",
    "    d = {}\n",
    "    \n",
    "    for i in l:\n",
    "        d[i] = d.get(i, 0)+1\n",
    "    \n",
    "    for num, freq in d.items():\n",
    "        if freq== max(d.values()):\n",
    "            return num\n",
    "l=[1,2,2,2,3,4,5,6,6,5,4]\n",
    "solution(l)\n",
    "    "
   ]
  },
  {
   "cell_type": "markdown",
   "id": "95b45a9c",
   "metadata": {},
   "source": [
    "27. **`Write a program to find the greatest common divisor (GCD) of two numbers.`**"
   ]
  },
  {
   "cell_type": "code",
   "execution_count": 69,
   "id": "7182ec3f",
   "metadata": {},
   "outputs": [
    {
     "data": {
      "text/plain": [
       "4"
      ]
     },
     "execution_count": 69,
     "metadata": {},
     "output_type": "execute_result"
    }
   ],
   "source": [
    "def solution(num1, num2):\n",
    "    d1=[]\n",
    "    d2=[]\n",
    "    gcd=float('-inf')\n",
    "    \n",
    "    for i in range(1, num1+1):\n",
    "        if num1%i==0:\n",
    "            d1.append(i)\n",
    "    for i in range(1, num2+1):\n",
    "        if num2%i==0:\n",
    "            d2.append(i)\n",
    "    for j in d1:\n",
    "        if j in d2:\n",
    "            gcd = max(gcd, j)\n",
    "    return gcd\n",
    "\n",
    "solution(8, 12)"
   ]
  },
  {
   "cell_type": "code",
   "execution_count": 70,
   "id": "40525c27",
   "metadata": {},
   "outputs": [
    {
     "data": {
      "text/plain": [
       "4"
      ]
     },
     "execution_count": 70,
     "metadata": {},
     "output_type": "execute_result"
    }
   ],
   "source": [
    "def solution(num1, num2):\n",
    "    gcd = 1  # Initialize gcd to 1\n",
    "    \n",
    "    for i in range(1, min(num1, num2) + 1):\n",
    "        if num1 % i == 0 and num2 % i == 0:\n",
    "            gcd = i  # Update gcd if common divisor found\n",
    "    \n",
    "    return gcd\n",
    "\n",
    "solution(8, 12)\n"
   ]
  },
  {
   "cell_type": "markdown",
   "id": "a4d35da9",
   "metadata": {},
   "source": [
    "28. **`Implement a function to calculate the square root of a given number.`**"
   ]
  },
  {
   "cell_type": "code",
   "execution_count": 77,
   "id": "17243aca",
   "metadata": {},
   "outputs": [
    {
     "data": {
      "text/plain": [
       "4"
      ]
     },
     "execution_count": 77,
     "metadata": {},
     "output_type": "execute_result"
    }
   ],
   "source": [
    "def sqrtt(num):\n",
    "    \n",
    "    low=0\n",
    "    high = num\n",
    "    \n",
    "    while low<=high:\n",
    "        mid = (low+high)//2\n",
    "        \n",
    "        if mid*mid==num:\n",
    "            return mid\n",
    "        elif mid*mid<num:\n",
    "            low = mid+1\n",
    "        else:\n",
    "            high = mid-1\n",
    "    return high\n",
    "        \n",
    "num =24\n",
    "sqrtt(num)"
   ]
  },
  {
   "cell_type": "markdown",
   "id": "6f24531b",
   "metadata": {},
   "source": [
    "29. **`Write a Python program to check if a given string is a valid palindrome ignoring non-alphanumeric characters.`**"
   ]
  },
  {
   "cell_type": "code",
   "execution_count": 79,
   "id": "cde76e13",
   "metadata": {},
   "outputs": [
    {
     "data": {
      "text/plain": [
       "True"
      ]
     },
     "execution_count": 79,
     "metadata": {},
     "output_type": "execute_result"
    }
   ],
   "source": [
    "def solution(s):\n",
    "    \n",
    "    p1=0\n",
    "    p2=len(s)-1\n",
    "    \n",
    "    # Lowercase string\n",
    "    s = s.lower()\n",
    "    \n",
    "    # Compares character until they are equal\n",
    "    while p1<=p2:\n",
    "        # If there is another symbol in left of sentence\n",
    "        if not(s[p1]>='a' and s[p1]<='z'):\n",
    "            p1+=1\n",
    "        # If there is another symbol in right of sentence\n",
    "        elif not(s[p2]>='a' and s[p2]<='z'):\n",
    "            p2-=1\n",
    "        # If characters are equal\n",
    "        elif s[p1]==s[p2]:\n",
    "            p1+=1\n",
    "            p2-=1\n",
    "        # If characters are not equal then sentence is not palindrome\n",
    "        else:\n",
    "            return False\n",
    "    # Returns true if sentence is palindrome\n",
    "    return True\n",
    "\n",
    "s = \"Too hot to hoot.\"\n",
    "solution(s)"
   ]
  },
  {
   "cell_type": "markdown",
   "id": "ce9f4321",
   "metadata": {},
   "source": [
    "30. **`Implement a function to find the minimum element in a rotated sorted list.`**"
   ]
  },
  {
   "cell_type": "code",
   "execution_count": 84,
   "id": "05161d52",
   "metadata": {},
   "outputs": [
    {
     "data": {
      "text/plain": [
       "1"
      ]
     },
     "execution_count": 84,
     "metadata": {},
     "output_type": "execute_result"
    }
   ],
   "source": [
    "def solution(l):\n",
    "    p1 =0\n",
    "    p2 = len(l)-1\n",
    "    \n",
    "    while p1<=p2:\n",
    "        mid = (p1+p1)//2\n",
    "        \n",
    "        if l[mid]>l[mid-1] and l[mid]>l[mid+1]:\n",
    "            return l[mid+1]\n",
    "        elif l[mid]>l[p2]:\n",
    "            p1 = mid+1\n",
    "        elif l[mid]<l[p2]:\n",
    "            p2= mid-1\n",
    "    return p2\n",
    "\n",
    "l = [3, 4, 5, 6, 7, 1, 2]\n",
    "solution(l)"
   ]
  },
  {
   "cell_type": "markdown",
   "id": "ea402e49",
   "metadata": {},
   "source": [
    "31. Write a program to find the sum of all even numbers in a list."
   ]
  },
  {
   "cell_type": "code",
   "execution_count": 1,
   "id": "b7e5c390",
   "metadata": {},
   "outputs": [
    {
     "data": {
      "text/plain": [
       "6"
      ]
     },
     "execution_count": 1,
     "metadata": {},
     "output_type": "execute_result"
    }
   ],
   "source": [
    "def solution(l):\n",
    "    sum =0\n",
    "    for i in l:\n",
    "        if i%2==0:\n",
    "            sum +=i\n",
    "    return sum\n",
    "\n",
    "l = [1,2,3,4]\n",
    "solution(l)"
   ]
  },
  {
   "cell_type": "markdown",
   "id": "70738f74",
   "metadata": {},
   "source": [
    "32. **`Implement a function to calculate the power of a number using recursion.`**"
   ]
  },
  {
   "cell_type": "code",
   "execution_count": 1,
   "id": "1cd8257e",
   "metadata": {},
   "outputs": [
    {
     "data": {
      "text/plain": [
       "0.125"
      ]
     },
     "execution_count": 1,
     "metadata": {},
     "output_type": "execute_result"
    }
   ],
   "source": [
    "import math\n",
    "\n",
    "def power(num, p):\n",
    "    if p==0:\n",
    "        return 1\n",
    "    elif p<1:                                ##this is important, suppose num 2 and p =-3 then the call will be 1/power(2, -(-3)) = 1/power(2, 3)\n",
    "        return 1/power(num, -p)\n",
    "    \n",
    "    return num*(power(num, (p-1)))\n",
    "\n",
    "power(2, -3)"
   ]
  },
  {
   "cell_type": "markdown",
   "id": "0d8f604a",
   "metadata": {},
   "source": [
    "33. Write a Python program to remove duplicates from a list while preserving the order."
   ]
  },
  {
   "cell_type": "code",
   "execution_count": 5,
   "id": "ed8d1589",
   "metadata": {},
   "outputs": [
    {
     "data": {
      "text/plain": [
       "[1, 2, 3, 4, 5, 6]"
      ]
     },
     "execution_count": 5,
     "metadata": {},
     "output_type": "execute_result"
    }
   ],
   "source": [
    "def solution(l):\n",
    "    l1 = []\n",
    "    \n",
    "    for i in l:\n",
    "        if i in l1:\n",
    "            continue\n",
    "        l1.append(i)\n",
    "        \n",
    "    return l1\n",
    "\n",
    "solution([1,2,3,4,2,5,6,4])\n",
    "            "
   ]
  },
  {
   "cell_type": "code",
   "execution_count": 7,
   "id": "8b30d10f",
   "metadata": {},
   "outputs": [
    {
     "data": {
      "text/plain": [
       "[1, 2, 3, 4, 5, 6]"
      ]
     },
     "execution_count": 7,
     "metadata": {},
     "output_type": "execute_result"
    }
   ],
   "source": [
    "def solution(l):\n",
    "    return list(set(l))\n",
    "\n",
    "solution([1,2,3,4,2,5,6,4])"
   ]
  },
  {
   "cell_type": "markdown",
   "id": "931f54a6",
   "metadata": {},
   "source": [
    "**`34. Implement a function to find the longest common prefix among a list of strings.`**"
   ]
  },
  {
   "cell_type": "code",
   "execution_count": 28,
   "id": "68724b20",
   "metadata": {},
   "outputs": [
    {
     "data": {
      "text/plain": [
       "'fl'"
      ]
     },
     "execution_count": 28,
     "metadata": {},
     "output_type": "execute_result"
    }
   ],
   "source": [
    "def solution(strings):\n",
    "    if not strings:\n",
    "        return \"\"\n",
    "    \n",
    "    prefix = \"\"\n",
    "    \n",
    "    for i in range(len(strings[0])):\n",
    "        char = strings[0][i]\n",
    "        for string in strings[1:]:\n",
    "            if i>len(string) or string[i]!=char:\n",
    "                return prefix\n",
    "        prefix += char\n",
    "    return prefix\n",
    "\n",
    "solution([\"flower\", \"flow\", \"flight\"])\n",
    "          "
   ]
  },
  {
   "cell_type": "code",
   "execution_count": 29,
   "id": "2b47099c",
   "metadata": {},
   "outputs": [
    {
     "data": {
      "text/plain": [
       "'fl'"
      ]
     },
     "execution_count": 29,
     "metadata": {},
     "output_type": "execute_result"
    }
   ],
   "source": [
    "def solution(strings):\n",
    "    if not strings:\n",
    "        return \"\"\n",
    "    \n",
    "    prefix = strings[0]\n",
    "    \n",
    "    for i in range(len(prefix)):\n",
    "        for string in strings[1:]:\n",
    "            if string.find(prefix[:i+1])!=0:      ## this find function returns the starting index that means 0 if the substring woyld have found in teh string, otherwise returns `-1`\n",
    "                return prefix[:i]\n",
    "    return prefix\n",
    "    \n",
    "solution([\"flower\", \"flow\", \"flight\"])"
   ]
  },
  {
   "cell_type": "markdown",
   "id": "18594dea",
   "metadata": {},
   "source": [
    "35. Write a program to check if a given number is a perfect square."
   ]
  },
  {
   "cell_type": "code",
   "execution_count": 12,
   "id": "50c38a18",
   "metadata": {},
   "outputs": [
    {
     "data": {
      "text/plain": [
       "True"
      ]
     },
     "execution_count": 12,
     "metadata": {},
     "output_type": "execute_result"
    }
   ],
   "source": [
    "def solution(num):\n",
    "    p1 =0\n",
    "    p2 = num\n",
    "    \n",
    "    while p1<=p2:\n",
    "        mid = (p1+p2)//2\n",
    "        \n",
    "        if mid*mid== num:\n",
    "            return True\n",
    "        elif mid*mid>num:\n",
    "            p2=mid-1\n",
    "        else:\n",
    "            p1= mid+1\n",
    "    return False\n",
    "        \n",
    "solution(9)"
   ]
  },
  {
   "cell_type": "markdown",
   "id": "345c879e",
   "metadata": {},
   "source": [
    "36. Implement a function to calculate the product of all elements in a list."
   ]
  },
  {
   "cell_type": "code",
   "execution_count": 14,
   "id": "73039315",
   "metadata": {},
   "outputs": [
    {
     "data": {
      "text/plain": [
       "24"
      ]
     },
     "execution_count": 14,
     "metadata": {},
     "output_type": "execute_result"
    }
   ],
   "source": [
    "def solution(l):\n",
    "    product =1\n",
    "    \n",
    "    for i in l:\n",
    "        product = product *i\n",
    "    return product\n",
    "\n",
    "solution([1,2,3, 4])"
   ]
  },
  {
   "cell_type": "markdown",
   "id": "1cbd8449",
   "metadata": {},
   "source": [
    "37. Write a Python program to reverse the order of words in a sentence while preserving the word order."
   ]
  },
  {
   "cell_type": "code",
   "execution_count": 15,
   "id": "537b03ab",
   "metadata": {},
   "outputs": [
    {
     "data": {
      "text/plain": [
       "',olleH !dlrow sihT si a .ecnetnes'"
      ]
     },
     "execution_count": 15,
     "metadata": {},
     "output_type": "execute_result"
    }
   ],
   "source": [
    "## this function reverses the words in its place in the sentence\n",
    "def solution(sentence):\n",
    "    words= sentence.split()\n",
    "    \n",
    "    for i in range(len(words)):\n",
    "        p1=0\n",
    "        p2= len(words[i])-1\n",
    "        listed_word = list(words[i])\n",
    "        \n",
    "        while p1<=p2:\n",
    "            listed_word[p1], listed_word[p2] = listed_word[p2], listed_word[p1]\n",
    "            p1+=1\n",
    "            p2-=1\n",
    "        words[i] = \"\".join(listed_word)    \n",
    "    return \" \".join(words)\n",
    "\n",
    "sentence = \"Hello, world! This is a sentence.\"\n",
    "solution(sentence)"
   ]
  },
  {
   "cell_type": "markdown",
   "id": "a66a6a78",
   "metadata": {},
   "source": [
    "**`38. Implement a function to find the missing number in a given list of consecutive numbers.`**\n"
   ]
  },
  {
   "cell_type": "code",
   "execution_count": 48,
   "id": "d90d5544",
   "metadata": {},
   "outputs": [
    {
     "data": {
      "text/plain": [
       "4"
      ]
     },
     "execution_count": 48,
     "metadata": {},
     "output_type": "execute_result"
    }
   ],
   "source": [
    "def solution(l):\n",
    "    num = l[0]\n",
    "    while num in l:\n",
    "        num+=1\n",
    "    return num\n",
    "\n",
    "solution([2, 3, 5,  7, 8])"
   ]
  },
  {
   "cell_type": "code",
   "execution_count": 54,
   "id": "4a534408",
   "metadata": {},
   "outputs": [
    {
     "data": {
      "text/plain": [
       "4"
      ]
     },
     "execution_count": 54,
     "metadata": {},
     "output_type": "execute_result"
    }
   ],
   "source": [
    "def solution(l):\n",
    "    n = len(l)\n",
    "\n",
    "    for i in range(l[0], l[n-1]):\n",
    "        if i not in l:\n",
    "            return i\n",
    "    \n",
    "\n",
    "solution([2, 3, 5,6, 7, 8])"
   ]
  },
  {
   "cell_type": "code",
   "execution_count": 52,
   "id": "69ba19c5",
   "metadata": {},
   "outputs": [
    {
     "data": {
      "text/plain": [
       "[0, 1, 4, 6]"
      ]
     },
     "execution_count": 52,
     "metadata": {},
     "output_type": "execute_result"
    }
   ],
   "source": [
    "## return list of all intergers missing in a list of consecutive integers\n",
    "def solution(l):\n",
    "    n = len(l)\n",
    "    result =[]\n",
    "    for i in range(l[n-1]):\n",
    "        if i not in l:\n",
    "            result.append(i)\n",
    "    return result\n",
    "    \n",
    "\n",
    "solution([2, 3, 5,  7, 8])"
   ]
  },
  {
   "cell_type": "markdown",
   "id": "1954de77",
   "metadata": {},
   "source": [
    "39. Write a program to find the sum of digits of a given number."
   ]
  },
  {
   "cell_type": "code",
   "execution_count": 16,
   "id": "c91ad4ab",
   "metadata": {},
   "outputs": [
    {
     "data": {
      "text/plain": [
       "10"
      ]
     },
     "execution_count": 16,
     "metadata": {},
     "output_type": "execute_result"
    }
   ],
   "source": [
    "def sumOfDigits(num, sum):\n",
    "    if num<10:\n",
    "        return (sum+num)\n",
    "    sum = sum+(num%10)\n",
    "    \n",
    "    return sumOfDigits(num//10, sum)\n",
    "\n",
    "sumOfDigits(1234, 0)"
   ]
  },
  {
   "cell_type": "code",
   "execution_count": 18,
   "id": "70f7c925",
   "metadata": {},
   "outputs": [
    {
     "data": {
      "text/plain": [
       "10"
      ]
     },
     "execution_count": 18,
     "metadata": {},
     "output_type": "execute_result"
    }
   ],
   "source": [
    "def sumOfDigits(num):\n",
    "    sum =0\n",
    "    while num>0:\n",
    "        digit = num%10\n",
    "        sum = sum +digit\n",
    "        num//=10       ## num = num//10\n",
    "    return sum\n",
    "\n",
    "sumOfDigits(1234)"
   ]
  },
  {
   "cell_type": "markdown",
   "id": "34088641",
   "metadata": {},
   "source": [
    "**`40. Implement a function to check if a given string is a valid palindrome considering case sensitivity.`**"
   ]
  },
  {
   "cell_type": "code",
   "execution_count": 40,
   "id": "d14d9c84",
   "metadata": {},
   "outputs": [
    {
     "data": {
      "text/plain": [
       "False"
      ]
     },
     "execution_count": 40,
     "metadata": {},
     "output_type": "execute_result"
    }
   ],
   "source": [
    "## function to check if given string is a valid palindrome considering case sensitivity\n",
    "def solution(string):\n",
    "    # empty string that will store the alphanumeric characters\n",
    "    cleaned_string =\"\"\n",
    "    \n",
    "    # loop that will give string with only alphanumeric characters, although can use `char.isalpha()` to only give a string with alphabets, this step depenfds upon the requirement of teh question, we will totally avoid this step if we want to consider these other non alphanumeric characters also\n",
    "    for char in string:\n",
    "        if char.isalnum():\n",
    "            cleaned_string+=char\n",
    "            \n",
    "    p1=0\n",
    "    p2= len(cleaned_string)-1\n",
    "    \n",
    "    while p1<=p2:\n",
    "        if cleaned_string[p1]!=cleaned_string[p2]:\n",
    "            return False\n",
    "        p1+=1\n",
    "        p2-=1\n",
    "    return True\n",
    "\n",
    "solution(\"Racecar\")"
   ]
  },
  {
   "cell_type": "code",
   "execution_count": 42,
   "id": "9ae26f56",
   "metadata": {},
   "outputs": [
    {
     "data": {
      "text/plain": [
       "False"
      ]
     },
     "execution_count": 42,
     "metadata": {},
     "output_type": "execute_result"
    }
   ],
   "source": [
    "## function to check if given string is a valid palindrome considering case sensitivity\n",
    "def solution(string):\n",
    "    # empty string that will store the alphanumeric characters\n",
    "    cleaned_string =\"\"\n",
    "    \n",
    "    # loop that will give string with only alphanumeric characters, although can use `char.isalpha()` to only give a string with alphabets, this step depenfds upon the requirement of teh question, we will totally avoid this step if we want to consider these other non alphanumeric characters also\n",
    "    for char in string:\n",
    "        if char.isalnum():\n",
    "            cleaned_string+=char\n",
    "            \n",
    "    return cleaned_string== cleaned_string[::-1]\n",
    "\n",
    "solution(\"Racecar\")"
   ]
  },
  {
   "cell_type": "markdown",
   "id": "3f7ff3d1",
   "metadata": {},
   "source": [
    "*******************************************************************"
   ]
  },
  {
   "cell_type": "code",
   "execution_count": 41,
   "id": "42f2672e",
   "metadata": {},
   "outputs": [
    {
     "data": {
      "text/plain": [
       "True"
      ]
     },
     "execution_count": 41,
     "metadata": {},
     "output_type": "execute_result"
    }
   ],
   "source": [
    "## function to check if the given string is a valid palindrome not considering case sensitivity {that means characters being captital or small is not a concern}\n",
    "def solution(string):\n",
    "    # empty string that will store the alphanumeric characters\n",
    "    cleaned_string =\"\"\n",
    "    \n",
    "    # loop that will give string with only alphanumeric characters, although can use `char.isalpha()` to only give a string with alphabets, this step depenfds upon the requirement of teh question, we will totally avoid this step if we want to consider these other non alphanumeric characters also\n",
    "    for char in string:\n",
    "        if char.isalnum():\n",
    "            cleaned_string+=char\n",
    "    \n",
    "    cleaned_string= cleaned_string.lower()\n",
    "            \n",
    "    p1=0\n",
    "    p2= len(cleaned_string)-1\n",
    "    \n",
    "    while p1<=p2:\n",
    "        if cleaned_string[p1]!=cleaned_string[p2]:\n",
    "            return False\n",
    "        p1+=1\n",
    "        p2-=1\n",
    "    return True\n",
    "\n",
    "solution(\"Racecar\")"
   ]
  },
  {
   "cell_type": "code",
   "execution_count": 38,
   "id": "5b485fa5",
   "metadata": {},
   "outputs": [
    {
     "data": {
      "text/plain": [
       "True"
      ]
     },
     "execution_count": 38,
     "metadata": {},
     "output_type": "execute_result"
    }
   ],
   "source": [
    "## function to check if the given string is a valid palindrome not considering case sensitivity {that means characters being captital or small is not a concern}\n",
    "def solution(string):\n",
    "    # empty string that will store the alphanumeric characters\n",
    "    cleaned_string =\"\"\n",
    "    \n",
    "    # loop that will give string with only alphanumeric characters, although can use `char.isalpha()` to only give a string with alphabets, this step depenfds upon the requirement of teh question, we will totally avoid this step if we want to consider these other non alphanumeric characters also\n",
    "    for char in string:\n",
    "        if char.isalnum():\n",
    "            cleaned_string+=char\n",
    "    \n",
    "    cleaned_string= cleaned_string.lower()\n",
    "            \n",
    "    return cleaned_string == cleaned_string[::-1]\n",
    "\n",
    "solution(\"Racecar\")"
   ]
  },
  {
   "cell_type": "markdown",
   "id": "2d46214a",
   "metadata": {},
   "source": [
    "**`41. Write a Python program to find the smallest missing positive integer in a list.`**"
   ]
  },
  {
   "cell_type": "code",
   "execution_count": 45,
   "id": "3f91b9c5",
   "metadata": {},
   "outputs": [
    {
     "data": {
      "text/plain": [
       "2"
      ]
     },
     "execution_count": 45,
     "metadata": {},
     "output_type": "execute_result"
    }
   ],
   "source": [
    "def solution(nums):\n",
    "    num_set = set(nums)\n",
    "    \n",
    "    smallest_missing =1\n",
    "    while smallest_missing in num_set:\n",
    "        smallest_missing+=1\n",
    "    return smallest_missing\n",
    "\n",
    "solution([1,3,4,6,7])\n",
    "    "
   ]
  },
  {
   "cell_type": "markdown",
   "id": "26ec771b",
   "metadata": {},
   "source": [
    "42. Implement a function to find the longest palindrome substring in a given string."
   ]
  },
  {
   "cell_type": "code",
   "execution_count": 22,
   "id": "42ac62c0",
   "metadata": {},
   "outputs": [
    {
     "name": "stdout",
     "output_type": "stream",
     "text": [
      "abccba\n"
     ]
    }
   ],
   "source": [
    "def generate_substrings(string):\n",
    "    n = len(string)\n",
    "\n",
    "    # Generate substrings in descending order of length\n",
    "    for length in range(n, 0, -1):\n",
    "        for i in range(n - length + 1):\n",
    "            substring = string[i:i + length]\n",
    "\n",
    "            # Check if the substring is a palindrome\n",
    "            if substring == substring[::-1]:\n",
    "                return substring\n",
    "\n",
    "    return None  # Return None if no palindrome substring is found\n",
    "\n",
    "# Example usage\n",
    "result = generate_substrings(\"abccbacde\")\n",
    "print(result)  # Output: \"a\"\n"
   ]
  },
  {
   "cell_type": "markdown",
   "id": "f7ce591d",
   "metadata": {},
   "source": [
    "43. Write a program to find the number of occurrences of a given element in a list."
   ]
  },
  {
   "cell_type": "code",
   "execution_count": 49,
   "id": "86f6d67c",
   "metadata": {},
   "outputs": [
    {
     "data": {
      "text/plain": [
       "3"
      ]
     },
     "execution_count": 49,
     "metadata": {},
     "output_type": "execute_result"
    }
   ],
   "source": [
    "def solution(l, num):\n",
    "    if num not in l:\n",
    "        return None\n",
    "    \n",
    "    d={}\n",
    "    for i in l:\n",
    "        d[i] = d.get(i, 0)+1\n",
    "    \n",
    "    return d[num]\n",
    "\n",
    "solution([1,2,2,3,2,4,5], 2)"
   ]
  },
  {
   "cell_type": "code",
   "execution_count": 50,
   "id": "41b9832e",
   "metadata": {},
   "outputs": [
    {
     "data": {
      "text/plain": [
       "3"
      ]
     },
     "execution_count": 50,
     "metadata": {},
     "output_type": "execute_result"
    }
   ],
   "source": [
    "def solution(l, num):\n",
    "    if num not in l:\n",
    "        return None\n",
    "    \n",
    "    return l.count(num)\n",
    "\n",
    "solution([1,2,2,3,2,4,5], 2)"
   ]
  },
  {
   "cell_type": "markdown",
   "id": "5b4752b2",
   "metadata": {},
   "source": [
    "44. Implement a function to check if a given number is a perfect number."
   ]
  },
  {
   "cell_type": "markdown",
   "id": "7d5a43ed",
   "metadata": {},
   "source": [
    "**A perfect number is a positive integer that is equal to the sum of its proper divisors. Proper divisors are the positive divisors of a number excluding the number itself.**"
   ]
  },
  {
   "cell_type": "code",
   "execution_count": 4,
   "id": "cf02edbd",
   "metadata": {},
   "outputs": [
    {
     "data": {
      "text/plain": [
       "True"
      ]
     },
     "execution_count": 4,
     "metadata": {},
     "output_type": "execute_result"
    }
   ],
   "source": [
    "def solution(num):\n",
    "    \n",
    "    divisors =[]\n",
    "    \n",
    "    for i in range(1, num):\n",
    "        if num%i==0:\n",
    "            divisors.append(i)\n",
    "    \n",
    "    return sum(divisors)==num\n",
    "\n",
    "solution(6)"
   ]
  },
  {
   "cell_type": "markdown",
   "id": "26804afb",
   "metadata": {},
   "source": [
    "45. Write a Python program to remove all duplicates from a string."
   ]
  },
  {
   "cell_type": "code",
   "execution_count": 12,
   "id": "a3264b22",
   "metadata": {},
   "outputs": [
    {
     "data": {
      "text/plain": [
       "'rajesh'"
      ]
     },
     "execution_count": 12,
     "metadata": {},
     "output_type": "execute_result"
    }
   ],
   "source": [
    "def solution(s):\n",
    "    listed_s = list(s)\n",
    "    string=[]\n",
    "    \n",
    "    for i in listed_s:\n",
    "        if i in string:\n",
    "            continue\n",
    "        string.append(i)\n",
    "    \n",
    "    return \"\".join(string)\n",
    "\n",
    "solution(\"rrajjessh\")"
   ]
  },
  {
   "cell_type": "markdown",
   "id": "0154917f",
   "metadata": {},
   "source": [
    "**`46. Implement a function to find the first missing positive`**"
   ]
  },
  {
   "cell_type": "code",
   "execution_count": 14,
   "id": "be760e90",
   "metadata": {},
   "outputs": [
    {
     "data": {
      "text/plain": [
       "2"
      ]
     },
     "execution_count": 14,
     "metadata": {},
     "output_type": "execute_result"
    }
   ],
   "source": [
    "def solution(nums):\n",
    "    n = len(nums)\n",
    "    \n",
    "    # Step 1: Move positive integers to their corresponding indices\n",
    "    for i in range(n):\n",
    "        while 1<=nums[i]<=n and nums[nums[i]-1]!=nums[i]:         ## it will do the swaps when number is positive and when number in their respective index\n",
    "            nums[nums[i]-1], nums[i] = nums[i], nums[nums[i]-1]\n",
    "    \n",
    "    # Step 2: Find the first missing positive integer\n",
    "    for i in range(n):\n",
    "        if nums[i]!=i+1:\n",
    "            return i+1\n",
    "    \n",
    "    # If all positive integers from 1 to n are present, return n+1\n",
    "    return n+1\n",
    "\n",
    "solution([3, 4, -1, 1])"
   ]
  },
  {
   "cell_type": "code",
   "execution_count": null,
   "id": "5e5e29b5",
   "metadata": {},
   "outputs": [],
   "source": []
  }
 ],
 "metadata": {
  "kernelspec": {
   "display_name": "Python 3 (ipykernel)",
   "language": "python",
   "name": "python3"
  },
  "language_info": {
   "codemirror_mode": {
    "name": "ipython",
    "version": 3
   },
   "file_extension": ".py",
   "mimetype": "text/x-python",
   "name": "python",
   "nbconvert_exporter": "python",
   "pygments_lexer": "ipython3",
   "version": "3.9.12"
  }
 },
 "nbformat": 4,
 "nbformat_minor": 5
}
