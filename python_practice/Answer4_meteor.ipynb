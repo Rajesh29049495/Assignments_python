{
 "cells": [
  {
   "cell_type": "code",
   "execution_count": 1,
   "id": "5da73ff2",
   "metadata": {},
   "outputs": [],
   "source": [
    "import pandas as pd\n",
    "import numpy as np\n",
    "import seaborn as sns\n",
    "import matplotlib.pyplot as plt\n",
    "%matplotlib inline\n",
    "\n",
    "from sklearn.preprocessing import LabelEncoder\n",
    "labelencoder = LabelEncoder()"
   ]
  },
  {
   "cell_type": "code",
   "execution_count": 2,
   "id": "8549e220",
   "metadata": {},
   "outputs": [],
   "source": [
    "df = pd.read_json(\"https://data.nasa.gov/resource/y77d-th95.json\")"
   ]
  },
  {
   "cell_type": "markdown",
   "id": "9f23bb22",
   "metadata": {},
   "source": [
    "### Exploring the data"
   ]
  },
  {
   "cell_type": "code",
   "execution_count": 3,
   "id": "c62ccc8a",
   "metadata": {},
   "outputs": [
    {
     "data": {
      "text/html": [
       "<div>\n",
       "<style scoped>\n",
       "    .dataframe tbody tr th:only-of-type {\n",
       "        vertical-align: middle;\n",
       "    }\n",
       "\n",
       "    .dataframe tbody tr th {\n",
       "        vertical-align: top;\n",
       "    }\n",
       "\n",
       "    .dataframe thead th {\n",
       "        text-align: right;\n",
       "    }\n",
       "</style>\n",
       "<table border=\"1\" class=\"dataframe\">\n",
       "  <thead>\n",
       "    <tr style=\"text-align: right;\">\n",
       "      <th></th>\n",
       "      <th>name</th>\n",
       "      <th>id</th>\n",
       "      <th>nametype</th>\n",
       "      <th>recclass</th>\n",
       "      <th>mass</th>\n",
       "      <th>fall</th>\n",
       "      <th>year</th>\n",
       "      <th>reclat</th>\n",
       "      <th>reclong</th>\n",
       "      <th>geolocation</th>\n",
       "      <th>:@computed_region_cbhk_fwbd</th>\n",
       "      <th>:@computed_region_nnqa_25f4</th>\n",
       "    </tr>\n",
       "  </thead>\n",
       "  <tbody>\n",
       "    <tr>\n",
       "      <th>0</th>\n",
       "      <td>Aachen</td>\n",
       "      <td>1</td>\n",
       "      <td>Valid</td>\n",
       "      <td>L5</td>\n",
       "      <td>21.0</td>\n",
       "      <td>Fell</td>\n",
       "      <td>1880-01-01T00:00:00.000</td>\n",
       "      <td>50.77500</td>\n",
       "      <td>6.08333</td>\n",
       "      <td>{'type': 'Point', 'coordinates': [6.08333, 50....</td>\n",
       "      <td>NaN</td>\n",
       "      <td>NaN</td>\n",
       "    </tr>\n",
       "    <tr>\n",
       "      <th>1</th>\n",
       "      <td>Aarhus</td>\n",
       "      <td>2</td>\n",
       "      <td>Valid</td>\n",
       "      <td>H6</td>\n",
       "      <td>720.0</td>\n",
       "      <td>Fell</td>\n",
       "      <td>1951-01-01T00:00:00.000</td>\n",
       "      <td>56.18333</td>\n",
       "      <td>10.23333</td>\n",
       "      <td>{'type': 'Point', 'coordinates': [10.23333, 56...</td>\n",
       "      <td>NaN</td>\n",
       "      <td>NaN</td>\n",
       "    </tr>\n",
       "    <tr>\n",
       "      <th>2</th>\n",
       "      <td>Abee</td>\n",
       "      <td>6</td>\n",
       "      <td>Valid</td>\n",
       "      <td>EH4</td>\n",
       "      <td>107000.0</td>\n",
       "      <td>Fell</td>\n",
       "      <td>1952-01-01T00:00:00.000</td>\n",
       "      <td>54.21667</td>\n",
       "      <td>-113.00000</td>\n",
       "      <td>{'type': 'Point', 'coordinates': [-113, 54.216...</td>\n",
       "      <td>NaN</td>\n",
       "      <td>NaN</td>\n",
       "    </tr>\n",
       "    <tr>\n",
       "      <th>3</th>\n",
       "      <td>Acapulco</td>\n",
       "      <td>10</td>\n",
       "      <td>Valid</td>\n",
       "      <td>Acapulcoite</td>\n",
       "      <td>1914.0</td>\n",
       "      <td>Fell</td>\n",
       "      <td>1976-01-01T00:00:00.000</td>\n",
       "      <td>16.88333</td>\n",
       "      <td>-99.90000</td>\n",
       "      <td>{'type': 'Point', 'coordinates': [-99.9, 16.88...</td>\n",
       "      <td>NaN</td>\n",
       "      <td>NaN</td>\n",
       "    </tr>\n",
       "    <tr>\n",
       "      <th>4</th>\n",
       "      <td>Achiras</td>\n",
       "      <td>370</td>\n",
       "      <td>Valid</td>\n",
       "      <td>L6</td>\n",
       "      <td>780.0</td>\n",
       "      <td>Fell</td>\n",
       "      <td>1902-01-01T00:00:00.000</td>\n",
       "      <td>-33.16667</td>\n",
       "      <td>-64.95000</td>\n",
       "      <td>{'type': 'Point', 'coordinates': [-64.95, -33....</td>\n",
       "      <td>NaN</td>\n",
       "      <td>NaN</td>\n",
       "    </tr>\n",
       "  </tbody>\n",
       "</table>\n",
       "</div>"
      ],
      "text/plain": [
       "       name   id nametype     recclass      mass  fall  \\\n",
       "0    Aachen    1    Valid           L5      21.0  Fell   \n",
       "1    Aarhus    2    Valid           H6     720.0  Fell   \n",
       "2      Abee    6    Valid          EH4  107000.0  Fell   \n",
       "3  Acapulco   10    Valid  Acapulcoite    1914.0  Fell   \n",
       "4   Achiras  370    Valid           L6     780.0  Fell   \n",
       "\n",
       "                      year    reclat    reclong  \\\n",
       "0  1880-01-01T00:00:00.000  50.77500    6.08333   \n",
       "1  1951-01-01T00:00:00.000  56.18333   10.23333   \n",
       "2  1952-01-01T00:00:00.000  54.21667 -113.00000   \n",
       "3  1976-01-01T00:00:00.000  16.88333  -99.90000   \n",
       "4  1902-01-01T00:00:00.000 -33.16667  -64.95000   \n",
       "\n",
       "                                         geolocation  \\\n",
       "0  {'type': 'Point', 'coordinates': [6.08333, 50....   \n",
       "1  {'type': 'Point', 'coordinates': [10.23333, 56...   \n",
       "2  {'type': 'Point', 'coordinates': [-113, 54.216...   \n",
       "3  {'type': 'Point', 'coordinates': [-99.9, 16.88...   \n",
       "4  {'type': 'Point', 'coordinates': [-64.95, -33....   \n",
       "\n",
       "   :@computed_region_cbhk_fwbd  :@computed_region_nnqa_25f4  \n",
       "0                          NaN                          NaN  \n",
       "1                          NaN                          NaN  \n",
       "2                          NaN                          NaN  \n",
       "3                          NaN                          NaN  \n",
       "4                          NaN                          NaN  "
      ]
     },
     "execution_count": 3,
     "metadata": {},
     "output_type": "execute_result"
    }
   ],
   "source": [
    "df.head()"
   ]
  },
  {
   "cell_type": "code",
   "execution_count": 4,
   "id": "1fad34e4",
   "metadata": {},
   "outputs": [
    {
     "name": "stdout",
     "output_type": "stream",
     "text": [
      "<class 'pandas.core.frame.DataFrame'>\n",
      "RangeIndex: 1000 entries, 0 to 999\n",
      "Data columns (total 12 columns):\n",
      " #   Column                       Non-Null Count  Dtype  \n",
      "---  ------                       --------------  -----  \n",
      " 0   name                         1000 non-null   object \n",
      " 1   id                           1000 non-null   int64  \n",
      " 2   nametype                     1000 non-null   object \n",
      " 3   recclass                     1000 non-null   object \n",
      " 4   mass                         972 non-null    float64\n",
      " 5   fall                         1000 non-null   object \n",
      " 6   year                         999 non-null    object \n",
      " 7   reclat                       988 non-null    float64\n",
      " 8   reclong                      988 non-null    float64\n",
      " 9   geolocation                  988 non-null    object \n",
      " 10  :@computed_region_cbhk_fwbd  133 non-null    float64\n",
      " 11  :@computed_region_nnqa_25f4  134 non-null    float64\n",
      "dtypes: float64(5), int64(1), object(6)\n",
      "memory usage: 93.9+ KB\n"
     ]
    }
   ],
   "source": [
    "df.info()"
   ]
  },
  {
   "cell_type": "code",
   "execution_count": 5,
   "id": "6b425126",
   "metadata": {},
   "outputs": [
    {
     "data": {
      "text/plain": [
       "Index(['name', 'id', 'nametype', 'recclass', 'mass', 'fall', 'year', 'reclat',\n",
       "       'reclong', 'geolocation', ':@computed_region_cbhk_fwbd',\n",
       "       ':@computed_region_nnqa_25f4'],\n",
       "      dtype='object')"
      ]
     },
     "execution_count": 5,
     "metadata": {},
     "output_type": "execute_result"
    }
   ],
   "source": [
    "df.columns"
   ]
  },
  {
   "cell_type": "code",
   "execution_count": 6,
   "id": "f558e983",
   "metadata": {},
   "outputs": [
    {
     "name": "stdout",
     "output_type": "stream",
     "text": [
      "We have 6 numerical features : ['id', 'mass', 'reclat', 'reclong', ':@computed_region_cbhk_fwbd', ':@computed_region_nnqa_25f4']\n",
      "We have 6 categorical features : ['name', 'nametype', 'recclass', 'fall', 'year', 'geolocation']\n"
     ]
    }
   ],
   "source": [
    "# define numerical and categorical featutres\n",
    "num_fea = [fea for fea in df.columns if df[fea].dtype !='O']\n",
    "cat_fea = [fea for fea in df.columns if df[fea].dtype =='O']\n",
    "\n",
    "# print\n",
    "print(f'We have {len(num_fea)} numerical features : {num_fea}')\n",
    "print(f'We have {len(cat_fea)} categorical features : {cat_fea}')"
   ]
  },
  {
   "cell_type": "code",
   "execution_count": 7,
   "id": "4637792d",
   "metadata": {},
   "outputs": [
    {
     "name": "stdout",
     "output_type": "stream",
     "text": [
      "Aachen             0.1\n",
      "Nakhon Pathom      0.1\n",
      "Mtola              0.1\n",
      "Muddoor            0.1\n",
      "Mulletiwu          0.1\n",
      "                  ... \n",
      "Grimsby            0.1\n",
      "Grosnaja           0.1\n",
      "Gross-Divina       0.1\n",
      "Grossliebenthal    0.1\n",
      "Tomakovka          0.1\n",
      "Name: name, Length: 1000, dtype: float64\n",
      "--------------------------------------\n",
      "Valid    100.0\n",
      "Name: nametype, dtype: float64\n",
      "--------------------------------------\n",
      "L6              24.2\n",
      "H5              14.3\n",
      "H6               7.7\n",
      "L5               6.9\n",
      "H4               4.8\n",
      "                ... \n",
      "Iron, IAB-MG     0.1\n",
      "Iron, IIE-an     0.1\n",
      "L3.6             0.1\n",
      "LL3.2            0.1\n",
      "H/L3.6           0.1\n",
      "Name: recclass, Length: 118, dtype: float64\n",
      "--------------------------------------\n",
      "Fell     99.6\n",
      "Found     0.4\n",
      "Name: fall, dtype: float64\n",
      "--------------------------------------\n",
      "1933-01-01T00:00:00.000    1.601602\n",
      "1949-01-01T00:00:00.000    1.201201\n",
      "1868-01-01T00:00:00.000    1.101101\n",
      "1930-01-01T00:00:00.000    1.101101\n",
      "1934-01-01T00:00:00.000    1.001001\n",
      "                             ...   \n",
      "1839-01-01T00:00:00.000    0.100100\n",
      "1820-01-01T00:00:00.000    0.100100\n",
      "1769-01-01T00:00:00.000    0.100100\n",
      "1801-01-01T00:00:00.000    0.100100\n",
      "1807-01-01T00:00:00.000    0.100100\n",
      "Name: year, Length: 247, dtype: float64\n",
      "--------------------------------------\n",
      "{'type': 'Point', 'coordinates': [12.43333, 7.05]}        0.202429\n",
      "{'type': 'Point', 'coordinates': [0, 0]}                  0.202429\n",
      "{'type': 'Point', 'coordinates': [6.08333, 50.775]}       0.101215\n",
      "{'type': 'Point', 'coordinates': [30.35, 31.31667]}       0.101215\n",
      "{'type': 'Point', 'coordinates': [33.5, -11.5]}           0.101215\n",
      "                                                            ...   \n",
      "{'type': 'Point', 'coordinates': [11, 60.66667]}          0.101215\n",
      "{'type': 'Point', 'coordinates': [-79.61667, 43.2]}       0.101215\n",
      "{'type': 'Point', 'coordinates': [45.38333, 43.66667]}    0.101215\n",
      "{'type': 'Point', 'coordinates': [18.71667, 49.26667]}    0.101215\n",
      "{'type': 'Point', 'coordinates': [34.76667, 47.85]}       0.101215\n",
      "Name: geolocation, Length: 986, dtype: float64\n",
      "--------------------------------------\n"
     ]
    }
   ],
   "source": [
    "for col in cat_fea:\n",
    "    print(df[col].value_counts(normalize= True)*100)\n",
    "    print('--------------------------------------')"
   ]
  },
  {
   "cell_type": "markdown",
   "id": "f884c3f2",
   "metadata": {},
   "source": [
    "#### Categorical features"
   ]
  },
  {
   "cell_type": "code",
   "execution_count": 8,
   "id": "91d3bea4",
   "metadata": {},
   "outputs": [
    {
     "data": {
      "text/plain": [
       "['name', 'nametype', 'recclass', 'fall', 'year', 'geolocation']"
      ]
     },
     "execution_count": 8,
     "metadata": {},
     "output_type": "execute_result"
    }
   ],
   "source": [
    "cat_fea"
   ]
  },
  {
   "cell_type": "markdown",
   "id": "871c5e2e",
   "metadata": {},
   "source": [
    "**\"nametype\"**"
   ]
  },
  {
   "cell_type": "code",
   "execution_count": 9,
   "id": "cf91401b",
   "metadata": {},
   "outputs": [
    {
     "data": {
      "text/plain": [
       "dtype('O')"
      ]
     },
     "execution_count": 9,
     "metadata": {},
     "output_type": "execute_result"
    }
   ],
   "source": [
    "df[\"nametype\"].dtype"
   ]
  },
  {
   "cell_type": "markdown",
   "id": "af0d20ed",
   "metadata": {},
   "source": [
    "**\"recclass\"**"
   ]
  },
  {
   "cell_type": "code",
   "execution_count": 10,
   "id": "b82c3779",
   "metadata": {},
   "outputs": [
    {
     "data": {
      "text/plain": [
       "dtype('O')"
      ]
     },
     "execution_count": 10,
     "metadata": {},
     "output_type": "execute_result"
    }
   ],
   "source": [
    "df[\"recclass\"].dtype"
   ]
  },
  {
   "cell_type": "markdown",
   "id": "beada49d",
   "metadata": {},
   "source": [
    "**\"year\"**"
   ]
  },
  {
   "cell_type": "code",
   "execution_count": 11,
   "id": "bf2a50fc",
   "metadata": {},
   "outputs": [],
   "source": [
    "df[\"year\"] = df[\"year\"].str.split('T').str[0]"
   ]
  },
  {
   "cell_type": "code",
   "execution_count": 12,
   "id": "6728e08f",
   "metadata": {},
   "outputs": [],
   "source": [
    "df[\"year\"] = pd.to_datetime(df[\"year\"], errors= 'coerce')"
   ]
  },
  {
   "cell_type": "markdown",
   "id": "544ccaf9",
   "metadata": {},
   "source": [
    "**\"geolocation**"
   ]
  },
  {
   "cell_type": "code",
   "execution_count": 13,
   "id": "0c1ebdbc",
   "metadata": {
    "scrolled": true
   },
   "outputs": [
    {
     "data": {
      "text/plain": [
       "0      {'type': 'Point', 'coordinates': [6.08333, 50....\n",
       "1      {'type': 'Point', 'coordinates': [10.23333, 56...\n",
       "2      {'type': 'Point', 'coordinates': [-113, 54.216...\n",
       "3      {'type': 'Point', 'coordinates': [-99.9, 16.88...\n",
       "4      {'type': 'Point', 'coordinates': [-64.95, -33....\n",
       "                             ...                        \n",
       "995    {'type': 'Point', 'coordinates': [79.41667, 13...\n",
       "996    {'type': 'Point', 'coordinates': [-7.61123, 29...\n",
       "997    {'type': 'Point', 'coordinates': [111.53333, -...\n",
       "998    {'type': 'Point', 'coordinates': [106.58333, -...\n",
       "999    {'type': 'Point', 'coordinates': [34.76667, 47...\n",
       "Name: geolocation, Length: 1000, dtype: object"
      ]
     },
     "execution_count": 13,
     "metadata": {},
     "output_type": "execute_result"
    }
   ],
   "source": [
    "df[\"geolocation\"]"
   ]
  },
  {
   "cell_type": "code",
   "execution_count": 14,
   "id": "c70ae8e3",
   "metadata": {},
   "outputs": [],
   "source": [
    "df[\"point_coordinates\"] = df[\"geolocation\"].apply(lambda x: x[\"coordinates\"] if isinstance(x, dict) else None)"
   ]
  },
  {
   "cell_type": "code",
   "execution_count": 15,
   "id": "7fe8698a",
   "metadata": {},
   "outputs": [],
   "source": [
    "df.drop(\"geolocation\", axis = 1, inplace = True)"
   ]
  },
  {
   "cell_type": "markdown",
   "id": "f2fe041e",
   "metadata": {},
   "source": [
    "**numerical_features**"
   ]
  },
  {
   "cell_type": "markdown",
   "id": "a16d914b",
   "metadata": {},
   "source": [
    "**\"id\"**"
   ]
  },
  {
   "cell_type": "code",
   "execution_count": 16,
   "id": "4d686c61",
   "metadata": {},
   "outputs": [],
   "source": [
    "df[\"id\"] = df[\"id\"].astype(int)"
   ]
  },
  {
   "cell_type": "markdown",
   "id": "e0843a5f",
   "metadata": {},
   "source": [
    "**\"mass\"**"
   ]
  },
  {
   "cell_type": "code",
   "execution_count": 17,
   "id": "3be3e86b",
   "metadata": {},
   "outputs": [
    {
     "data": {
      "text/plain": [
       "dtype('float64')"
      ]
     },
     "execution_count": 17,
     "metadata": {},
     "output_type": "execute_result"
    }
   ],
   "source": [
    "df[\"mass\"].dtype"
   ]
  },
  {
   "cell_type": "markdown",
   "id": "46fc8521",
   "metadata": {},
   "source": [
    "**\"reclat\" {latitude}**"
   ]
  },
  {
   "cell_type": "code",
   "execution_count": 18,
   "id": "454e3122",
   "metadata": {},
   "outputs": [
    {
     "data": {
      "text/plain": [
       "dtype('float64')"
      ]
     },
     "execution_count": 18,
     "metadata": {},
     "output_type": "execute_result"
    }
   ],
   "source": [
    "df[\"reclat\"].dtype"
   ]
  },
  {
   "cell_type": "markdown",
   "id": "321b3a7a",
   "metadata": {},
   "source": [
    "**\"reclong\" {longitude}**"
   ]
  },
  {
   "cell_type": "code",
   "execution_count": 19,
   "id": "b705f14a",
   "metadata": {},
   "outputs": [
    {
     "data": {
      "text/plain": [
       "dtype('float64')"
      ]
     },
     "execution_count": 19,
     "metadata": {},
     "output_type": "execute_result"
    }
   ],
   "source": [
    "df[\"reclong\"].dtype"
   ]
  },
  {
   "cell_type": "code",
   "execution_count": 20,
   "id": "270e6ed3",
   "metadata": {},
   "outputs": [],
   "source": [
    "##dropping the column not expected\n",
    "df.drop([\"fall\", \":@computed_region_cbhk_fwbd\", \":@computed_region_nnqa_25f4\"], axis =1, inplace = True)"
   ]
  },
  {
   "cell_type": "code",
   "execution_count": 21,
   "id": "4f7bbedd",
   "metadata": {},
   "outputs": [
    {
     "name": "stdout",
     "output_type": "stream",
     "text": [
      "<class 'pandas.core.frame.DataFrame'>\n",
      "RangeIndex: 1000 entries, 0 to 999\n",
      "Data columns (total 9 columns):\n",
      " #   Column             Non-Null Count  Dtype         \n",
      "---  ------             --------------  -----         \n",
      " 0   name               1000 non-null   object        \n",
      " 1   id                 1000 non-null   int32         \n",
      " 2   nametype           1000 non-null   object        \n",
      " 3   recclass           1000 non-null   object        \n",
      " 4   mass               972 non-null    float64       \n",
      " 5   year               982 non-null    datetime64[ns]\n",
      " 6   reclat             988 non-null    float64       \n",
      " 7   reclong            988 non-null    float64       \n",
      " 8   point_coordinates  988 non-null    object        \n",
      "dtypes: datetime64[ns](1), float64(3), int32(1), object(4)\n",
      "memory usage: 66.5+ KB\n"
     ]
    }
   ],
   "source": [
    "df.info()"
   ]
  },
  {
   "cell_type": "markdown",
   "id": "f7a16afe",
   "metadata": {},
   "source": [
    "**Saving the data**"
   ]
  },
  {
   "cell_type": "code",
   "execution_count": 493,
   "id": "ab6cc0ca",
   "metadata": {},
   "outputs": [],
   "source": [
    "df.to_csv(\"meteor_information.csv\")"
   ]
  },
  {
   "cell_type": "code",
   "execution_count": null,
   "id": "c6dae8e7",
   "metadata": {},
   "outputs": [],
   "source": []
  }
 ],
 "metadata": {
  "kernelspec": {
   "display_name": "Python 3 (ipykernel)",
   "language": "python",
   "name": "python3"
  },
  "language_info": {
   "codemirror_mode": {
    "name": "ipython",
    "version": 3
   },
   "file_extension": ".py",
   "mimetype": "text/x-python",
   "name": "python",
   "nbconvert_exporter": "python",
   "pygments_lexer": "ipython3",
   "version": "3.9.12"
  }
 },
 "nbformat": 4,
 "nbformat_minor": 5
}
